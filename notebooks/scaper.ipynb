{
 "cells": [
  {
   "cell_type": "code",
   "execution_count": 8,
   "metadata": {},
   "outputs": [],
   "source": [
    "# Standard library\n",
    "import re\n",
    "import sys\n",
    "import json\n",
    "import requests\n",
    "from time        import time, sleep\n",
    "from pathlib     import Path\n",
    "from importlib   import reload\n",
    "from collections import Counter\n",
    "sys.path.append(str((Path(\".\").resolve().parent / \"src\").resolve()))\n",
    "\n",
    "# Extenal libraries + own\n",
    "from bs4 import BeautifulSoup, element\n",
    "import scraper_utils as utils\n",
    "utils = reload(utils)\n",
    "\n",
    "# Selenium\n",
    "import selenium\n",
    "from   selenium import webdriver\n",
    "from   selenium.webdriver.common.action_chains import ActionChains\n",
    "from   selenium.webdriver.common.keys import Keys\n",
    "from   selenium.webdriver.common.by   import By\n",
    "from   selenium.webdriver.support.ui  import Select\n",
    "from   selenium.common.exceptions     import ElementClickInterceptedException"
   ]
  },
  {
   "cell_type": "markdown",
   "metadata": {
    "jp-MarkdownHeadingCollapsed": true,
    "tags": []
   },
   "source": [
    "# Navigating the HTML"
   ]
  },
  {
   "cell_type": "code",
   "execution_count": 4,
   "metadata": {},
   "outputs": [
    {
     "name": "stdout",
     "output_type": "stream",
     "text": [
      "200\n"
     ]
    }
   ],
   "source": [
    "fruit_url = \"https://www.sainsburys.co.uk/shop/gb/groceries/fruit-veg/fruitandveg-essentials\"\n",
    "resp = requests.get(fruit_url, headers={\"content-type\":\"application/json\"})\n",
    "print(resp.status_code)"
   ]
  },
  {
   "cell_type": "code",
   "execution_count": 3,
   "metadata": {},
   "outputs": [
    {
     "name": "stdout",
     "output_type": "stream",
     "text": [
      "200\n"
     ]
    }
   ],
   "source": [
    "with open(\"fruit_essentials.html\", \"w\") as f:\n",
    "    f.write(resp._content.decode(\"utf-8\"))"
   ]
  },
  {
   "cell_type": "code",
   "execution_count": 5,
   "metadata": {},
   "outputs": [],
   "source": [
    "soup = BeautifulSoup(resp._content.decode(\"utf-8\"), 'html.parser')"
   ]
  },
  {
   "cell_type": "code",
   "execution_count": 5,
   "metadata": {},
   "outputs": [
    {
     "data": {
      "text/plain": [
       "dict_keys(['parser_class', 'name', 'namespace', 'prefix', 'sourceline', 'sourcepos', 'known_xml', 'attrs', 'contents', 'parent', 'previous_element', 'next_element', 'next_sibling', 'previous_sibling', 'hidden', 'can_be_empty_element', 'cdata_list_attributes', 'preserve_whitespace_tags'])"
      ]
     },
     "execution_count": 5,
     "metadata": {},
     "output_type": "execute_result"
    }
   ],
   "source": [
    "with open(\"fruit_essentials_bs4.html\", \"w\") as f:\n",
    "    f.write(soup.prettify())\n",
    "vars(soup.body).keys()"
   ]
  },
  {
   "cell_type": "markdown",
   "metadata": {
    "jp-MarkdownHeadingCollapsed": true,
    "tags": []
   },
   "source": [
    "## Getting the `page`"
   ]
  },
  {
   "cell_type": "code",
   "execution_count": 99,
   "metadata": {},
   "outputs": [],
   "source": [
    "page = utils.fetch_tag(soup.body, \"page\") # soup.body.contents[1]\n",
    "page2 = soup.body.div\n",
    "page3 = soup.find_all(id=\"page\")[0]"
   ]
  },
  {
   "cell_type": "code",
   "execution_count": 100,
   "metadata": {},
   "outputs": [
    {
     "data": {
      "text/plain": [
       "(True, True)"
      ]
     },
     "execution_count": 100,
     "metadata": {},
     "output_type": "execute_result"
    }
   ],
   "source": [
    "hash(page) == hash(page2), hash(page2) == hash(page3)"
   ]
  },
  {
   "cell_type": "code",
   "execution_count": 105,
   "metadata": {},
   "outputs": [
    {
     "data": {
      "text/plain": [
       "True"
      ]
     },
     "execution_count": 105,
     "metadata": {},
     "output_type": "execute_result"
    }
   ],
   "source": [
    "page2.attrs == {'id':'page'}"
   ]
  },
  {
   "cell_type": "markdown",
   "metadata": {
    "jp-MarkdownHeadingCollapsed": true,
    "tags": []
   },
   "source": [
    "## Getting the `gridItems`"
   ]
  },
  {
   "cell_type": "code",
   "execution_count": 68,
   "metadata": {},
   "outputs": [
    {
     "data": {
      "text/plain": [
       "60"
      ]
     },
     "execution_count": 68,
     "metadata": {},
     "output_type": "execute_result"
    }
   ],
   "source": [
    "grid_items_ = page.find_all(attrs={\"class\":\"gridItem\"})\n",
    "len(grid_items_)"
   ]
  },
  {
   "cell_type": "code",
   "execution_count": 67,
   "metadata": {},
   "outputs": [
    {
     "data": {
      "text/plain": [
       "bs4.element.Tag"
      ]
     },
     "execution_count": 67,
     "metadata": {},
     "output_type": "execute_result"
    }
   ],
   "source": [
    "g = grid_items_[0]\n",
    "type(g)"
   ]
  },
  {
   "cell_type": "code",
   "execution_count": 22,
   "metadata": {},
   "outputs": [
    {
     "data": {
      "text/plain": [
       "dict_keys(['parser_class', 'name', 'namespace', 'prefix', 'sourceline', 'sourcepos', 'known_xml', 'attrs', 'contents', 'parent', 'previous_element', 'next_element', 'next_sibling', 'previous_sibling', 'hidden', 'can_be_empty_element', 'cdata_list_attributes', 'preserve_whitespace_tags'])"
      ]
     },
     "execution_count": 22,
     "metadata": {},
     "output_type": "execute_result"
    }
   ],
   "source": [
    "vars(g).keys()"
   ]
  },
  {
   "cell_type": "markdown",
   "metadata": {},
   "source": [
    "list(enumerate(g.descendants))"
   ]
  },
  {
   "cell_type": "code",
   "execution_count": 55,
   "metadata": {},
   "outputs": [
    {
     "data": {
      "text/plain": [
       "<h3>\n",
       "<a href=\"https://www.sainsburys.co.uk/shop/gb/groceries/product/details/fruitandveg-essentials/sainsburys-loose-fairtrade-bananas\">\n",
       "                                                Sainsbury's Fairtrade Bananas Loose\n",
       "                                                <img alt=\"\" src=\"https://assets.sainsburys-groceries.co.uk/gol/1196757/image.jpg\"/>\n",
       "</a>\n",
       "</h3>"
      ]
     },
     "execution_count": 55,
     "metadata": {},
     "output_type": "execute_result"
    }
   ],
   "source": [
    "g.div.div.div.h3"
   ]
  },
  {
   "cell_type": "markdown",
   "metadata": {
    "jp-MarkdownHeadingCollapsed": true,
    "tags": []
   },
   "source": [
    "## Item title"
   ]
  },
  {
   "cell_type": "code",
   "execution_count": 42,
   "metadata": {},
   "outputs": [
    {
     "data": {
      "text/plain": [
       "[(0, '\\n'),\n",
       " (1,\n",
       "  <a href=\"https://www.sainsburys.co.uk/shop/gb/groceries/product/details/fruitandveg-essentials/sainsburys-loose-fairtrade-bananas\">\n",
       "                                                  Sainsbury's Fairtrade Bananas Loose\n",
       "                                                  <img alt=\"\" src=\"https://assets.sainsburys-groceries.co.uk/gol/1196757/image.jpg\"/>\n",
       "  </a>),\n",
       " (2,\n",
       "  \"\\r\\n                                                Sainsbury's Fairtrade Bananas Loose\\r\\n                                                \"),\n",
       " (3,\n",
       "  <img alt=\"\" src=\"https://assets.sainsburys-groceries.co.uk/gol/1196757/image.jpg\"/>),\n",
       " (4, '\\n'),\n",
       " (5, '\\n')]"
      ]
     },
     "execution_count": 42,
     "metadata": {},
     "output_type": "execute_result"
    }
   ],
   "source": [
    "list(enumerate(g.div.div.div.h3.descendants))"
   ]
  },
  {
   "cell_type": "code",
   "execution_count": 119,
   "metadata": {},
   "outputs": [
    {
     "data": {
      "text/plain": [
       "[(1,\n",
       "  <a href=\"https://www.sainsburys.co.uk/shop/gb/groceries/product/details/fruitandveg-essentials/sainsburys-red-pepper\">\n",
       "                                                  Sainsbury's Red Pepper\n",
       "                                                  <img alt=\"\" src=\"https://assets.sainsburys-groceries.co.uk/gol/1236644/image.jpg\"/>\n",
       "  </a>),\n",
       " (2,\n",
       "  \"\\r\\n                                                Sainsbury's Red Pepper\\r\\n                                                \"),\n",
       " (3,\n",
       "  <img alt=\"\" src=\"https://assets.sainsburys-groceries.co.uk/gol/1236644/image.jpg\"/>)]"
      ]
     },
     "execution_count": 119,
     "metadata": {},
     "output_type": "execute_result"
    }
   ],
   "source": [
    "[\n",
    "    (i,item) for i,item in \n",
    "    enumerate(grid_items_[5].find_all(\"h3\")[0].descendants)\n",
    "    if item != \"\\n\"\n",
    "]"
   ]
  },
  {
   "cell_type": "code",
   "execution_count": 123,
   "metadata": {},
   "outputs": [
    {
     "data": {
      "text/plain": [
       "\"Sainsbury's Red Pepper\""
      ]
     },
     "execution_count": 123,
     "metadata": {},
     "output_type": "execute_result"
    }
   ],
   "source": [
    "\"\\r\\n                                                Sainsbury's Red Pepper\\r\\n                                                \".strip()"
   ]
  },
  {
   "cell_type": "code",
   "execution_count": 121,
   "metadata": {},
   "outputs": [
    {
     "data": {
      "text/plain": [
       "Counter({6: 60})"
      ]
     },
     "execution_count": 121,
     "metadata": {},
     "output_type": "execute_result"
    }
   ],
   "source": [
    "Counter(\n",
    "    len(list(g.find_all(\"h3\")[0].descendants))\n",
    "    for g in grid_items_\n",
    ")"
   ]
  },
  {
   "cell_type": "markdown",
   "metadata": {
    "jp-MarkdownHeadingCollapsed": true,
    "tags": []
   },
   "source": [
    "## Thumbnail"
   ]
  },
  {
   "cell_type": "code",
   "execution_count": 107,
   "metadata": {},
   "outputs": [],
   "source": [
    "!wget \"https://assets.sainsburys-groceries.co.uk/gol/1196757/image.jpg\" -o banana.jpg"
   ]
  },
  {
   "cell_type": "code",
   "execution_count": 108,
   "metadata": {},
   "outputs": [
    {
     "data": {
      "text/plain": [
       "200"
      ]
     },
     "execution_count": 108,
     "metadata": {},
     "output_type": "execute_result"
    }
   ],
   "source": [
    "req = requests.get(\"https://assets.sainsburys-groceries.co.uk/gol/1196757/image.jpg\")\n",
    "req.status_code"
   ]
  },
  {
   "cell_type": "code",
   "execution_count": 110,
   "metadata": {},
   "outputs": [
    {
     "data": {
      "text/plain": [
       "7365"
      ]
     },
     "execution_count": 110,
     "metadata": {},
     "output_type": "execute_result"
    }
   ],
   "source": [
    "Path(\"banana.jpg\").write_bytes(req.content)"
   ]
  },
  {
   "cell_type": "markdown",
   "metadata": {
    "jp-MarkdownHeadingCollapsed": true,
    "tags": []
   },
   "source": [
    "## Prices"
   ]
  },
  {
   "cell_type": "code",
   "execution_count": 163,
   "metadata": {},
   "outputs": [],
   "source": [
    "## Way too hard-coded\n",
    "\n",
    "# g.div.div.next_sibling.next_sibling.next_sibling.next_sibling.div.div.div.div\n",
    "# list(enumerate(g.div.div.next_sibling.next_sibling.next_sibling.next_sibling.div.div.div.div.descendants))"
   ]
  },
  {
   "cell_type": "code",
   "execution_count": 126,
   "metadata": {},
   "outputs": [
    {
     "data": {
      "text/plain": [
       "'78p'"
      ]
     },
     "execution_count": 126,
     "metadata": {},
     "output_type": "execute_result"
    }
   ],
   "source": [
    "g.find_all(attrs={\"class\":\"pricePerUnit\"})[0].string.strip()"
   ]
  },
  {
   "cell_type": "code",
   "execution_count": 174,
   "metadata": {},
   "outputs": [
    {
     "data": {
      "text/plain": [
       "'78p'"
      ]
     },
     "execution_count": 174,
     "metadata": {},
     "output_type": "execute_result"
    }
   ],
   "source": [
    "''.join(g.find_all(attrs={\"class\":\"pricePerUnit\"})[0].strings).strip()"
   ]
  },
  {
   "cell_type": "markdown",
   "metadata": {},
   "source": [
    "---"
   ]
  },
  {
   "cell_type": "code",
   "execution_count": 66,
   "metadata": {},
   "outputs": [
    {
     "data": {
      "text/plain": [
       "[<p class=\"pricePerMeasure\">78p<abbr title=\"per\">/</abbr><abbr title=\"kilogram\"><span class=\"pricePerMeasureMeasure\">kg</span></abbr>\n",
       " </p>,\n",
       " <p class=\"pricePerMeasure\">£16.67<abbr title=\"per\">/</abbr><abbr title=\"kilogram\"><span class=\"pricePerMeasureMeasure\">kg</span></abbr>\n",
       " </p>]"
      ]
     },
     "execution_count": 66,
     "metadata": {},
     "output_type": "execute_result"
    }
   ],
   "source": [
    "g.find_all(attrs={\"class\":\"pricePerMeasure\"})"
   ]
  },
  {
   "cell_type": "code",
   "execution_count": 134,
   "metadata": {},
   "outputs": [
    {
     "data": {
      "text/plain": [
       "[(0, '78p'),\n",
       " (1, <abbr title=\"per\">/</abbr>),\n",
       " (2, '/'),\n",
       " (3,\n",
       "  <abbr title=\"kilogram\"><span class=\"pricePerMeasureMeasure\">kg</span></abbr>),\n",
       " (4, <span class=\"pricePerMeasureMeasure\">kg</span>),\n",
       " (5, 'kg'),\n",
       " (6, '\\n')]"
      ]
     },
     "execution_count": 134,
     "metadata": {},
     "output_type": "execute_result"
    }
   ],
   "source": [
    "list(enumerate(\n",
    "    g\n",
    "    .find_all(attrs={\"class\":\"pricePerMeasure\"})[0]\n",
    "    .descendants\n",
    "))"
   ]
  },
  {
   "cell_type": "code",
   "execution_count": 142,
   "metadata": {},
   "outputs": [],
   "source": [
    "tmp = [\n",
    "    (list((\n",
    "    g\n",
    "    .find_all(attrs={\"class\":\"pricePerMeasure\"})[0]\n",
    "    .descendants\n",
    "    )))\n",
    "    for g in grid_items_\n",
    "]"
   ]
  },
  {
   "cell_type": "code",
   "execution_count": 144,
   "metadata": {},
   "outputs": [
    {
     "data": {
      "text/plain": [
       "[['£1.00',\n",
       "  <abbr title=\"per\">/</abbr>,\n",
       "  '/',\n",
       "  '100',\n",
       "  <abbr title=\"gram\"><span class=\"pricePerMeasureMeasure\">g</span></abbr>,\n",
       "  <span class=\"pricePerMeasureMeasure\">g</span>,\n",
       "  'g',\n",
       "  '\\n']]"
      ]
     },
     "execution_count": 144,
     "metadata": {},
     "output_type": "execute_result"
    }
   ],
   "source": [
    "[t for t in tmp if len(t) == 8]"
   ]
  },
  {
   "cell_type": "code",
   "execution_count": 164,
   "metadata": {},
   "outputs": [
    {
     "data": {
      "text/plain": [
       "['78p/kg', '45p/kg', '55p/ea', '65p/kg', '55p/kg']"
      ]
     },
     "execution_count": 164,
     "metadata": {},
     "output_type": "execute_result"
    }
   ],
   "source": [
    "[\n",
    "    ''.join(\n",
    "        grid_item\n",
    "        .find_all(attrs={\"class\":\"pricePerMeasure\"})[0].strings\n",
    "    ).strip()\n",
    "    for grid_item in grid_items_\n",
    "][:5]"
   ]
  },
  {
   "cell_type": "code",
   "execution_count": 172,
   "metadata": {},
   "outputs": [
    {
     "data": {
      "text/plain": [
       "['78p/kg', '45p/kg', '55p/ea', '65p/kg', '55p/kg']"
      ]
     },
     "execution_count": 172,
     "metadata": {},
     "output_type": "execute_result"
    }
   ],
   "source": [
    "[\n",
    "    ''.join(\n",
    "        grid_item\n",
    "        .find_all(attrs={\"class\":\"pricePerMeasure\"})[0].strings\n",
    "    ).strip()\n",
    "    for grid_item in grid_items_\n",
    "][:5]"
   ]
  },
  {
   "cell_type": "code",
   "execution_count": 135,
   "metadata": {},
   "outputs": [
    {
     "data": {
      "text/plain": [
       "[(0, <span class=\"pricePerMeasureMeasure\">kg</span>)]"
      ]
     },
     "execution_count": 135,
     "metadata": {},
     "output_type": "execute_result"
    }
   ],
   "source": [
    "list(enumerate(\n",
    "    g\n",
    "    .find_all(attrs={\"class\":\"pricePerMeasure\"})[0]\n",
    "    .find_all(attrs={\"class\":\"pricePerMeasureMeasure\"})#[0]\n",
    "))"
   ]
  },
  {
   "cell_type": "markdown",
   "metadata": {
    "jp-MarkdownHeadingCollapsed": true,
    "tags": []
   },
   "source": [
    "# All together"
   ]
  },
  {
   "cell_type": "code",
   "execution_count": 541,
   "metadata": {},
   "outputs": [],
   "source": [
    "import sys\n",
    "import requests\n",
    "from collections import Counter\n",
    "from time import time\n",
    "from pathlib import Path\n",
    "from importlib import reload\n",
    "\n",
    "import pandas as pd\n",
    "from bs4 import BeautifulSoup, element\n",
    "from matplotlib_venn import venn2, venn3\n",
    "import matplotlib.pyplot as plt\n",
    "\n",
    "sys.path.append(str((Path(\".\").resolve().parent / \"src\").resolve()))"
   ]
  },
  {
   "cell_type": "code",
   "execution_count": 190,
   "metadata": {},
   "outputs": [],
   "source": [
    "import scraper_utils as utils\n",
    "utils = reload(utils)"
   ]
  },
  {
   "cell_type": "code",
   "execution_count": 195,
   "metadata": {},
   "outputs": [
    {
     "name": "stdout",
     "output_type": "stream",
     "text": [
      "Page downloaded in 0.535065s\n"
     ]
    }
   ],
   "source": [
    "fruit_url = \"https://www.sainsburys.co.uk/shop/gb/groceries/fruit-veg/fruitandveg-essentials\"\n",
    "t0 = time()\n",
    "resp = requests.get(fruit_url)#, headers={\"content-type\":\"application/json\"})\n",
    "print(f\"Page downloaded in {time() - t0:.6f}s\")\n",
    "soup = BeautifulSoup(resp._content.decode(\"utf-8\"), 'html.parser')"
   ]
  },
  {
   "cell_type": "code",
   "execution_count": 196,
   "metadata": {},
   "outputs": [
    {
     "data": {
      "text/plain": [
       "60"
      ]
     },
     "execution_count": 196,
     "metadata": {},
     "output_type": "execute_result"
    }
   ],
   "source": [
    "items = utils.scrape_items(soup)\n",
    "len(items)"
   ]
  },
  {
   "cell_type": "code",
   "execution_count": 197,
   "metadata": {},
   "outputs": [
    {
     "data": {
      "text/html": [
       "<div>\n",
       "<style scoped>\n",
       "    .dataframe tbody tr th:only-of-type {\n",
       "        vertical-align: middle;\n",
       "    }\n",
       "\n",
       "    .dataframe tbody tr th {\n",
       "        vertical-align: top;\n",
       "    }\n",
       "\n",
       "    .dataframe thead th {\n",
       "        text-align: right;\n",
       "    }\n",
       "</style>\n",
       "<table border=\"1\" class=\"dataframe\">\n",
       "  <thead>\n",
       "    <tr style=\"text-align: right;\">\n",
       "      <th></th>\n",
       "      <th>title</th>\n",
       "      <th>thubmnail</th>\n",
       "      <th>price_unit</th>\n",
       "      <th>price_measure</th>\n",
       "    </tr>\n",
       "  </thead>\n",
       "  <tbody>\n",
       "    <tr>\n",
       "      <th>0</th>\n",
       "      <td>Sainsbury's Fairtrade Bananas Loose</td>\n",
       "      <td></td>\n",
       "      <td>78p</td>\n",
       "      <td>78p/kg</td>\n",
       "    </tr>\n",
       "    <tr>\n",
       "      <th>1</th>\n",
       "      <td>Sainsbury's British Carrots Loose</td>\n",
       "      <td></td>\n",
       "      <td>45p</td>\n",
       "      <td>45p/kg</td>\n",
       "    </tr>\n",
       "    <tr>\n",
       "      <th>2</th>\n",
       "      <td>Sainsbury's Whole Cucumber</td>\n",
       "      <td></td>\n",
       "      <td>55p</td>\n",
       "      <td>55p/ea</td>\n",
       "    </tr>\n",
       "    <tr>\n",
       "      <th>3</th>\n",
       "      <td>Sainsbury's Onions Loose</td>\n",
       "      <td></td>\n",
       "      <td>65p</td>\n",
       "      <td>65p/kg</td>\n",
       "    </tr>\n",
       "    <tr>\n",
       "      <th>4</th>\n",
       "      <td>Sainsbury's British Baking Potatoes Loose</td>\n",
       "      <td></td>\n",
       "      <td>55p</td>\n",
       "      <td>55p/kg</td>\n",
       "    </tr>\n",
       "  </tbody>\n",
       "</table>\n",
       "</div>"
      ],
      "text/plain": [
       "                                       title thubmnail price_unit  \\\n",
       "0        Sainsbury's Fairtrade Bananas Loose                  78p   \n",
       "1          Sainsbury's British Carrots Loose                  45p   \n",
       "2                 Sainsbury's Whole Cucumber                  55p   \n",
       "3                   Sainsbury's Onions Loose                  65p   \n",
       "4  Sainsbury's British Baking Potatoes Loose                  55p   \n",
       "\n",
       "  price_measure  \n",
       "0        78p/kg  \n",
       "1        45p/kg  \n",
       "2        55p/ea  \n",
       "3        65p/kg  \n",
       "4        55p/kg  "
      ]
     },
     "execution_count": 197,
     "metadata": {},
     "output_type": "execute_result"
    }
   ],
   "source": [
    "items.head()"
   ]
  },
  {
   "cell_type": "markdown",
   "metadata": {
    "jp-MarkdownHeadingCollapsed": true,
    "tags": []
   },
   "source": [
    "## 120 at once?"
   ]
  },
  {
   "cell_type": "code",
   "execution_count": 199,
   "metadata": {},
   "outputs": [
    {
     "name": "stdout",
     "output_type": "stream",
     "text": [
      "Page downloaded in 0.983309s\n"
     ]
    },
    {
     "data": {
      "text/plain": [
       "(120, 4)"
      ]
     },
     "execution_count": 199,
     "metadata": {},
     "output_type": "execute_result"
    }
   ],
   "source": [
    "fruit_url2 = \"https://www.sainsburys.co.uk/shop/gb/groceries/fruit-veg/CategoryDisplay?langId=44&storeId=10151&catalogId=10241&categoryId=474593&orderBy=TOP_SELLERS%7CSEQUENCING&beginIndex=0&promotionId=&listId=&searchTerm=&hasPreviousOrder=&previousOrderId=&categoryFacetId1=&categoryFacetId2=&ImportedProductsCount=&ImportedStoreName=&ImportedSupermarket=&bundleId=&parent_category_rn=12518&top_category=12518&pageSize=120#langId=44&storeId=10151&catalogId=10241&categoryId=474593&parent_category_rn=12518&top_category=12518&pageSize=120&orderBy=TOP_SELLERS%7CSEQUENCING&searchTerm=&beginIndex=0&facet=\"\n",
    "t0 = time()\n",
    "resp = requests.get(fruit_url2)#, headers={\"content-type\":\"application/json\"})\n",
    "print(f\"Page downloaded in {time() - t0:.6f}s\")\n",
    "soup = BeautifulSoup(resp._content.decode(\"utf-8\"), 'html.parser')\n",
    "items = utils.scrape_items(soup)\n",
    "items.shape\n"
   ]
  },
  {
   "cell_type": "code",
   "execution_count": 201,
   "metadata": {},
   "outputs": [
    {
     "name": "stdout",
     "output_type": "stream",
     "text": [
      "Page downloaded in 0.549774s\n"
     ]
    },
    {
     "data": {
      "text/plain": [
       "(40, 4)"
      ]
     },
     "execution_count": 201,
     "metadata": {},
     "output_type": "execute_result"
    }
   ],
   "source": [
    "fruit_url3 = \"https://www.sainsburys.co.uk/shop/CategoryDisplay?listId=&catalogId=10241&searchTerm=&beginIndex=120&pageSize=120&orderBy=TOP_SELLERS%7CSEQUENCING&top_category=12518&langId=44&storeId=10151&categoryId=474593&promotionId=&parent_category_rn=12518\"\n",
    "t0 = time()\n",
    "resp = requests.get(fruit_url3)#, headers={\"content-type\":\"application/json\"})\n",
    "print(f\"Page downloaded in {time() - t0:.6f}s\")\n",
    "soup = BeautifulSoup(resp._content.decode(\"utf-8\"), 'html.parser')\n",
    "items = utils.scrape_items(soup)\n",
    "items.shape"
   ]
  },
  {
   "cell_type": "markdown",
   "metadata": {
    "jp-MarkdownHeadingCollapsed": true,
    "tags": []
   },
   "source": [
    "# Read parquet"
   ]
  },
  {
   "cell_type": "code",
   "execution_count": 208,
   "metadata": {},
   "outputs": [],
   "source": [
    "import pandas as pd"
   ]
  },
  {
   "cell_type": "code",
   "execution_count": 214,
   "metadata": {},
   "outputs": [
    {
     "data": {
      "text/plain": [
       "(320, 6)"
      ]
     },
     "execution_count": 214,
     "metadata": {},
     "output_type": "execute_result"
    }
   ],
   "source": [
    "df_pq = pd.read_parquet(\"../data/sainsburys-prices.parquet\")\n",
    "df_pq.shape"
   ]
  },
  {
   "cell_type": "code",
   "execution_count": 218,
   "metadata": {},
   "outputs": [
    {
     "data": {
      "text/html": [
       "<div>\n",
       "<style scoped>\n",
       "    .dataframe tbody tr th:only-of-type {\n",
       "        vertical-align: middle;\n",
       "    }\n",
       "\n",
       "    .dataframe tbody tr th {\n",
       "        vertical-align: top;\n",
       "    }\n",
       "\n",
       "    .dataframe thead th {\n",
       "        text-align: right;\n",
       "    }\n",
       "</style>\n",
       "<table border=\"1\" class=\"dataframe\">\n",
       "  <thead>\n",
       "    <tr style=\"text-align: right;\">\n",
       "      <th></th>\n",
       "      <th>title</th>\n",
       "      <th>thubmnail</th>\n",
       "      <th>price_unit</th>\n",
       "      <th>price_measure</th>\n",
       "      <th>scraping_date</th>\n",
       "      <th>category</th>\n",
       "    </tr>\n",
       "  </thead>\n",
       "  <tbody>\n",
       "    <tr>\n",
       "      <th>0</th>\n",
       "      <td>Sainsbury's Fairtrade Bananas Loose</td>\n",
       "      <td></td>\n",
       "      <td>78p</td>\n",
       "      <td>78p/kg</td>\n",
       "      <td>2022-06-26 02:14:15.508559</td>\n",
       "      <td>fruit-veggies</td>\n",
       "    </tr>\n",
       "    <tr>\n",
       "      <th>1</th>\n",
       "      <td>Sainsbury's British Carrots Loose</td>\n",
       "      <td></td>\n",
       "      <td>45p</td>\n",
       "      <td>45p/kg</td>\n",
       "      <td>2022-06-26 02:14:15.508559</td>\n",
       "      <td>fruit-veggies</td>\n",
       "    </tr>\n",
       "    <tr>\n",
       "      <th>2</th>\n",
       "      <td>Sainsbury's Whole Cucumber</td>\n",
       "      <td></td>\n",
       "      <td>55p</td>\n",
       "      <td>55p/ea</td>\n",
       "      <td>2022-06-26 02:14:15.508559</td>\n",
       "      <td>fruit-veggies</td>\n",
       "    </tr>\n",
       "    <tr>\n",
       "      <th>3</th>\n",
       "      <td>Sainsbury's Onions Loose</td>\n",
       "      <td></td>\n",
       "      <td>65p</td>\n",
       "      <td>65p/kg</td>\n",
       "      <td>2022-06-26 02:14:15.508559</td>\n",
       "      <td>fruit-veggies</td>\n",
       "    </tr>\n",
       "    <tr>\n",
       "      <th>4</th>\n",
       "      <td>Sainsbury's British Baking Potatoes Loose</td>\n",
       "      <td></td>\n",
       "      <td>55p</td>\n",
       "      <td>55p/kg</td>\n",
       "      <td>2022-06-26 02:14:15.508559</td>\n",
       "      <td>fruit-veggies</td>\n",
       "    </tr>\n",
       "  </tbody>\n",
       "</table>\n",
       "</div>"
      ],
      "text/plain": [
       "                                       title thubmnail price_unit  \\\n",
       "0        Sainsbury's Fairtrade Bananas Loose                  78p   \n",
       "1          Sainsbury's British Carrots Loose                  45p   \n",
       "2                 Sainsbury's Whole Cucumber                  55p   \n",
       "3                   Sainsbury's Onions Loose                  65p   \n",
       "4  Sainsbury's British Baking Potatoes Loose                  55p   \n",
       "\n",
       "  price_measure               scraping_date       category  \n",
       "0        78p/kg  2022-06-26 02:14:15.508559  fruit-veggies  \n",
       "1        45p/kg  2022-06-26 02:14:15.508559  fruit-veggies  \n",
       "2        55p/ea  2022-06-26 02:14:15.508559  fruit-veggies  \n",
       "3        65p/kg  2022-06-26 02:14:15.508559  fruit-veggies  \n",
       "4        55p/kg  2022-06-26 02:14:15.508559  fruit-veggies  "
      ]
     },
     "execution_count": 218,
     "metadata": {},
     "output_type": "execute_result"
    }
   ],
   "source": [
    "df_pq.head()"
   ]
  },
  {
   "cell_type": "markdown",
   "metadata": {
    "jp-MarkdownHeadingCollapsed": true,
    "tags": []
   },
   "source": [
    "# Different links?"
   ]
  },
  {
   "cell_type": "markdown",
   "metadata": {
    "jp-MarkdownHeadingCollapsed": true,
    "tags": []
   },
   "source": [
    "## Attempt 1: british produce"
   ]
  },
  {
   "cell_type": "code",
   "execution_count": 216,
   "metadata": {},
   "outputs": [],
   "source": [
    "base_link = \"https://www.sainsburys.co.uk/shop/gb/groceries/fruit-veg/british-produce\"\n",
    "browser_link = \"https://www.sainsburys.co.uk/shop/gb/groceries/fruit-veg/CategoryDisplay?langId=44&storeId=10151&catalogId=10241&categoryId=484866&orderBy=SEQUENCING%7CFAVOURITES_ONLY%7CTOP_SELLERS&beginIndex=0&promotionId=&listId=&searchTerm=&hasPreviousOrder=&previousOrderId=&categoryFacetId1=&categoryFacetId2=&ImportedProductsCount=&ImportedStoreName=&ImportedSupermarket=&bundleId=&parent_category_rn=12518&top_category=12518&pageSize=120#langId=44&storeId=10151&catalogId=10241&categoryId=484866&parent_category_rn=12518&top_category=12518&pageSize=120&orderBy=SEQUENCING%7CFAVOURITES_ONLY%7CTOP_SELLERS&searchTerm=&beginIndex=0&hideFilters=true\"\n",
    "base_hacked_link = base_link + \"?langId=44&pageSize=120\"\n"
   ]
  },
  {
   "cell_type": "code",
   "execution_count": 220,
   "metadata": {},
   "outputs": [],
   "source": [
    "req1 = requests.get(base_link)\n",
    "req2 = requests.get(browser_link)\n",
    "req3 = requests.get(base_hacked_link)\n",
    "# len(req1),len(req2),len(req3)"
   ]
  },
  {
   "cell_type": "code",
   "execution_count": 221,
   "metadata": {},
   "outputs": [],
   "source": [
    "items1 = utils.scrape_items(BeautifulSoup(req1._content.decode(\"utf-8\"), 'html.parser'))\n",
    "items2 = utils.scrape_items(BeautifulSoup(req2._content.decode(\"utf-8\"), 'html.parser'))\n",
    "items3 = utils.scrape_items(BeautifulSoup(req3._content.decode(\"utf-8\"), 'html.parser'))\n",
    "\n"
   ]
  },
  {
   "cell_type": "code",
   "execution_count": 222,
   "metadata": {},
   "outputs": [
    {
     "data": {
      "text/plain": [
       "((32, 4), (32, 4), (32, 4))"
      ]
     },
     "execution_count": 222,
     "metadata": {},
     "output_type": "execute_result"
    }
   ],
   "source": [
    "items1.shape, items2.shape, items3.shape, "
   ]
  },
  {
   "cell_type": "markdown",
   "metadata": {
    "jp-MarkdownHeadingCollapsed": true,
    "tags": []
   },
   "source": [
    "## Attempt 2: fruit"
   ]
  },
  {
   "cell_type": "code",
   "execution_count": 227,
   "metadata": {},
   "outputs": [],
   "source": [
    "base_link = \"https://www.sainsburys.co.uk/shop/gb/groceries/fruit-veg/fresh-fruit\"\n",
    "browser_link = \"https://www.sainsburys.co.uk/shop/gb/groceries/fruit-veg/all-fruit#langId=44&storeId=10151&catalogId=10241&categoryId=12545&parent_category_rn=12518&top_category=12518&pageSize=60&orderBy=FAVOURITES_ONLY%7CSEQUENCING%7CTOP_SELLERS&searchTerm=&beginIndex=0&hideFilters=true\"\n",
    "base_hacked_link = base_link + \"?langId=44&pageSize=120\"\n"
   ]
  },
  {
   "cell_type": "code",
   "execution_count": 228,
   "metadata": {},
   "outputs": [],
   "source": [
    "req1 = requests.get(base_link)\n",
    "req2 = requests.get(browser_link)\n",
    "req3 = requests.get(base_hacked_link)\n",
    "# len(req1),len(req2),len(req3)"
   ]
  },
  {
   "cell_type": "code",
   "execution_count": 236,
   "metadata": {},
   "outputs": [],
   "source": [
    "soup = BeautifulSoup(req1.content.decode(), 'html.parser')\n"
   ]
  },
  {
   "cell_type": "code",
   "execution_count": 250,
   "metadata": {},
   "outputs": [
    {
     "data": {
      "text/plain": [
       "82931"
      ]
     },
     "execution_count": 250,
     "metadata": {},
     "output_type": "execute_result"
    }
   ],
   "source": [
    "Path(\"fresh-fruit-home.html\").write_text(soup.prettify())"
   ]
  },
  {
   "cell_type": "code",
   "execution_count": null,
   "metadata": {},
   "outputs": [],
   "source": [
    "# list(enumerate(soup.children))"
   ]
  },
  {
   "cell_type": "code",
   "execution_count": 229,
   "metadata": {},
   "outputs": [],
   "source": [
    "items1 = utils.scrape_items(BeautifulSoup(req1._content.decode(\"utf-8\"), 'html.parser'))\n",
    "items2 = utils.scrape_items(BeautifulSoup(req2._content.decode(\"utf-8\"), 'html.parser'))\n",
    "items3 = utils.scrape_items(BeautifulSoup(req3._content.decode(\"utf-8\"), 'html.parser'))\n",
    "\n"
   ]
  },
  {
   "cell_type": "code",
   "execution_count": 230,
   "metadata": {},
   "outputs": [
    {
     "data": {
      "text/plain": [
       "((0, 0), (60, 4), (0, 0))"
      ]
     },
     "execution_count": 230,
     "metadata": {},
     "output_type": "execute_result"
    }
   ],
   "source": [
    "items1.shape, items2.shape, items3.shape, "
   ]
  },
  {
   "cell_type": "markdown",
   "metadata": {
    "jp-MarkdownHeadingCollapsed": true,
    "tags": []
   },
   "source": [
    "## Attemp 3: Groceries home"
   ]
  },
  {
   "cell_type": "markdown",
   "metadata": {
    "jp-MarkdownHeadingCollapsed": true,
    "tags": []
   },
   "source": [
    "### Layer 0"
   ]
  },
  {
   "cell_type": "code",
   "execution_count": 257,
   "metadata": {
    "tags": []
   },
   "outputs": [
    {
     "data": {
      "text/plain": [
       "167210"
      ]
     },
     "execution_count": 257,
     "metadata": {},
     "output_type": "execute_result"
    }
   ],
   "source": [
    "base_link = \"https://www.sainsburys.co.uk/shop/gb/groceries\"\n",
    "req1 = requests.get(base_link)\n",
    "soup = BeautifulSoup(req1.content.decode(), 'html.parser')\n",
    "Path(\"groceries-home.html\").write_text(soup.prettify())"
   ]
  },
  {
   "cell_type": "code",
   "execution_count": 258,
   "metadata": {},
   "outputs": [
    {
     "data": {
      "text/plain": [
       "29"
      ]
     },
     "execution_count": 258,
     "metadata": {},
     "output_type": "execute_result"
    }
   ],
   "source": [
    "len(list(soup.find_all(attrs = {'class':'megaNavListItem'})))"
   ]
  },
  {
   "cell_type": "code",
   "execution_count": 263,
   "metadata": {},
   "outputs": [
    {
     "data": {
      "text/plain": [
       "[(10,\n",
       "  <li class=\"megaNavListItem\" data-itemid=\"473117\" data-overrideurl=\"true\">\n",
       "  <a class=\"megaNavLink\" data-itemid=\"473117\" href=\"/shop/gb/groceries/working-to-feed-the-nation-/latest-information--\">\n",
       "  \t                \tWorking to feed the nation\n",
       "  \t                </a>\n",
       "  </li>),\n",
       " (11,\n",
       "  <li class=\"megaNavListItem\" data-itemid=\"355372\">\n",
       "  <a class=\"megaNavLink\" data-itemid=\"355372\" href=\"https://www.sainsburys.co.uk/shop/gb/groceries/new---trending?fromMegaNav=1\">\n",
       "  \t                \tSeasonal inspiration<span class=\"megaNavArrowIcon\"></span>\n",
       "  </a>\n",
       "  </li>),\n",
       " (12,\n",
       "  <li class=\"megaNavListItem\" data-itemid=\"248078\">\n",
       "  <a class=\"megaNavLink\" data-itemid=\"248078\" href=\"https://www.sainsburys.co.uk/shop/gb/groceries/summer?fromMegaNav=1\">\n",
       "  \t                \tSummer<span class=\"megaNavArrowIcon\"></span>\n",
       "  </a>\n",
       "  </li>)]"
      ]
     },
     "execution_count": 263,
     "metadata": {},
     "output_type": "execute_result"
    }
   ],
   "source": [
    "list(enumerate(soup.find_all(attrs = {'class':'megaNavListItem'})))[10:13]"
   ]
  },
  {
   "cell_type": "code",
   "execution_count": 292,
   "metadata": {},
   "outputs": [
    {
     "data": {
      "text/plain": [
       "{'0': 0, None: None, '2': 2, '4': 4}"
      ]
     },
     "execution_count": 292,
     "metadata": {},
     "output_type": "execute_result"
    }
   ],
   "source": [
    "dict(\n",
    "    (str(i),i) if i%2==0 else (None,None) for i in range(5)\n",
    ")"
   ]
  },
  {
   "cell_type": "code",
   "execution_count": 286,
   "metadata": {},
   "outputs": [
    {
     "name": "stdout",
     "output_type": "stream",
     "text": [
      "<class 'bs4.element.Tag'> \n",
      "\n"
     ]
    },
    {
     "data": {
      "text/plain": [
       "[(0, '\\n'),\n",
       " (1,\n",
       "  <a class=\"megaNavLink\" data-itemid=\"355372\" href=\"https://www.sainsburys.co.uk/shop/gb/groceries/new---trending?fromMegaNav=1\">\n",
       "  \t                \tSeasonal inspiration<span class=\"megaNavArrowIcon\"></span>\n",
       "  </a>),\n",
       " (2, '\\r\\n\\t                \\tSeasonal inspiration'),\n",
       " (3, <span class=\"megaNavArrowIcon\"></span>),\n",
       " (4, '\\n'),\n",
       " (5, '\\n')]"
      ]
     },
     "execution_count": 286,
     "metadata": {},
     "output_type": "execute_result"
    }
   ],
   "source": [
    "mega_nav = list((soup.find_all(attrs = {'class':'megaNavListItem'})))[11]\n",
    "print(type(mega_nav), \"\\n\")\n",
    "list(enumerate(mega_nav.descendants))"
   ]
  },
  {
   "cell_type": "code",
   "execution_count": 270,
   "metadata": {},
   "outputs": [
    {
     "data": {
      "text/plain": [
       "{'class': ['megaNavLink'],\n",
       " 'data-itemid': '355372',\n",
       " 'href': 'https://www.sainsburys.co.uk/shop/gb/groceries/new---trending?fromMegaNav=1'}"
      ]
     },
     "execution_count": 270,
     "metadata": {},
     "output_type": "execute_result"
    }
   ],
   "source": [
    "list(mega_nav.descendants)[1].attrs"
   ]
  },
  {
   "cell_type": "code",
   "execution_count": 301,
   "metadata": {},
   "outputs": [
    {
     "name": "stdout",
     "output_type": "stream",
     "text": [
      "0 ['Browse']\n",
      "1 ['Groceries']\n",
      "2 ['Favourites']\n",
      "3 ['Offers']\n",
      "4 ['Discover']\n",
      "5 ['Recipes']\n",
      "6 ['Book Delivery']\n",
      "7 ['Delivery Pass']\n",
      "8 ['Back']\n",
      "9 ['Groceries home']\n",
      "10 ['Working to feed the nation']\n",
      "11 ['Seasonal inspiration']\n",
      "12 ['Summer']\n",
      "13 ['Dietary & world foods']\n",
      "14 ['Price Lock']\n",
      "15 ['Fruit & vegetables']\n",
      "16 ['Meat & fish']\n",
      "17 ['Dairy, eggs & chilled']\n",
      "18 ['Bakery']\n",
      "19 ['Frozen']\n",
      "20 ['Food cupboard']\n",
      "21 ['Drinks']\n",
      "22 ['Household']\n",
      "23 ['Beauty & cosmetics']\n",
      "24 ['Toiletries & health']\n",
      "25 ['Homeware & outdoor']\n",
      "26 ['Baby & toddler']\n",
      "27 ['Pet']\n",
      "28 ['Features & articles']\n"
     ]
    }
   ],
   "source": [
    "for i,x in enumerate(soup.find_all(attrs = {'class':'megaNavListItem'})):\n",
    "    stringos = [s.strip() for s in x.strings if s != \"\\n\"]\n",
    "    print(i, stringos)"
   ]
  },
  {
   "cell_type": "code",
   "execution_count": 299,
   "metadata": {},
   "outputs": [
    {
     "data": {
      "text/plain": [
       "['\\r\\n\\t                \\tSeasonal inspiration', '\\n']"
      ]
     },
     "execution_count": 299,
     "metadata": {},
     "output_type": "execute_result"
    }
   ],
   "source": [
    "list(list(mega_nav.descendants)[1].strings)"
   ]
  },
  {
   "cell_type": "code",
   "execution_count": 278,
   "metadata": {},
   "outputs": [
    {
     "data": {
      "text/plain": [
       "[(bs4.element.NavigableString, '\\n'),\n",
       " (bs4.element.Tag,\n",
       "  <a class=\"megaNavLink\" data-itemid=\"355372\" href=\"https://www.sainsburys.co.uk/shop/gb/groceries/new---trending?fromMegaNav=1\">\n",
       "  \t                \tSeasonal inspiration<span class=\"megaNavArrowIcon\"></span>\n",
       "  </a>),\n",
       " (bs4.element.NavigableString, '\\n')]"
      ]
     },
     "execution_count": 278,
     "metadata": {},
     "output_type": "execute_result"
    }
   ],
   "source": [
    "[(type(x),x) for x in mega_nav.children]"
   ]
  },
  {
   "cell_type": "code",
   "execution_count": 294,
   "metadata": {},
   "outputs": [
    {
     "data": {
      "text/plain": [
       "{'parent': <li class=\"megaNavListItem\" data-itemid=\"355372\">\n",
       " <a class=\"megaNavLink\" data-itemid=\"355372\" href=\"https://www.sainsburys.co.uk/shop/gb/groceries/new---trending?fromMegaNav=1\">\n",
       " \t                \tSeasonal inspiration<span class=\"megaNavArrowIcon\"></span>\n",
       " </a>\n",
       " </li>,\n",
       " 'previous_element': <li class=\"megaNavListItem\" data-itemid=\"355372\">\n",
       " <a class=\"megaNavLink\" data-itemid=\"355372\" href=\"https://www.sainsburys.co.uk/shop/gb/groceries/new---trending?fromMegaNav=1\">\n",
       " \t                \tSeasonal inspiration<span class=\"megaNavArrowIcon\"></span>\n",
       " </a>\n",
       " </li>,\n",
       " 'next_element': <a class=\"megaNavLink\" data-itemid=\"355372\" href=\"https://www.sainsburys.co.uk/shop/gb/groceries/new---trending?fromMegaNav=1\">\n",
       " \t                \tSeasonal inspiration<span class=\"megaNavArrowIcon\"></span>\n",
       " </a>,\n",
       " 'next_sibling': <a class=\"megaNavLink\" data-itemid=\"355372\" href=\"https://www.sainsburys.co.uk/shop/gb/groceries/new---trending?fromMegaNav=1\">\n",
       " \t                \tSeasonal inspiration<span class=\"megaNavArrowIcon\"></span>\n",
       " </a>,\n",
       " 'previous_sibling': None}"
      ]
     },
     "execution_count": 294,
     "metadata": {},
     "output_type": "execute_result"
    }
   ],
   "source": [
    "vars(list(mega_nav.children)[0])"
   ]
  },
  {
   "cell_type": "code",
   "execution_count": 297,
   "metadata": {},
   "outputs": [
    {
     "data": {
      "text/plain": [
       "{'class': ['megaNavLink'],\n",
       " 'data-itemid': '355372',\n",
       " 'href': 'https://www.sainsburys.co.uk/shop/gb/groceries/new---trending?fromMegaNav=1'}"
      ]
     },
     "execution_count": 297,
     "metadata": {},
     "output_type": "execute_result"
    }
   ],
   "source": [
    "getattr(list(mega_nav.children)[1], 'attrs', 'skere')#['href']"
   ]
  },
  {
   "cell_type": "code",
   "execution_count": 281,
   "metadata": {
    "tags": []
   },
   "outputs": [
    {
     "data": {
      "text/plain": [
       "{'parser_class': bs4.BeautifulSoup,\n",
       " 'name': 'a',\n",
       " 'namespace': None,\n",
       " 'prefix': None,\n",
       " 'sourceline': 351,\n",
       " 'sourcepos': 17,\n",
       " 'known_xml': False,\n",
       " 'attrs': {'class': ['megaNavLink'],\n",
       "  'data-itemid': '355372',\n",
       "  'href': 'https://www.sainsburys.co.uk/shop/gb/groceries/new---trending?fromMegaNav=1'},\n",
       " 'contents': ['\\r\\n\\t                \\tSeasonal inspiration',\n",
       "  <span class=\"megaNavArrowIcon\"></span>,\n",
       "  '\\n'],\n",
       " 'parent': <li class=\"megaNavListItem\" data-itemid=\"355372\">\n",
       " <a class=\"megaNavLink\" data-itemid=\"355372\" href=\"https://www.sainsburys.co.uk/shop/gb/groceries/new---trending?fromMegaNav=1\">\n",
       " \t                \tSeasonal inspiration<span class=\"megaNavArrowIcon\"></span>\n",
       " </a>\n",
       " </li>,\n",
       " 'previous_element': '\\n',\n",
       " 'next_element': '\\r\\n\\t                \\tSeasonal inspiration',\n",
       " 'next_sibling': '\\n',\n",
       " 'previous_sibling': '\\n',\n",
       " 'hidden': False,\n",
       " 'can_be_empty_element': False,\n",
       " 'cdata_list_attributes': {'*': ['class', 'accesskey', 'dropzone'],\n",
       "  'a': ['rel', 'rev'],\n",
       "  'link': ['rel', 'rev'],\n",
       "  'td': ['headers'],\n",
       "  'th': ['headers'],\n",
       "  'form': ['accept-charset'],\n",
       "  'object': ['archive'],\n",
       "  'area': ['rel'],\n",
       "  'icon': ['sizes'],\n",
       "  'iframe': ['sandbox'],\n",
       "  'output': ['for']},\n",
       " 'preserve_whitespace_tags': {'pre', 'textarea'}}"
      ]
     },
     "execution_count": 281,
     "metadata": {},
     "output_type": "execute_result"
    }
   ],
   "source": [
    "vars(list(mega_nav.children)[1])"
   ]
  },
  {
   "cell_type": "markdown",
   "metadata": {
    "jp-MarkdownHeadingCollapsed": true,
    "tags": []
   },
   "source": [
    "### Navigating tree - layer 1"
   ]
  },
  {
   "cell_type": "code",
   "execution_count": 334,
   "metadata": {},
   "outputs": [],
   "source": [
    "import scraper_utils as utils\n",
    "utils = reload(utils)"
   ]
  },
  {
   "cell_type": "code",
   "execution_count": 341,
   "metadata": {},
   "outputs": [],
   "source": [
    "from time import sleep"
   ]
  },
  {
   "cell_type": "code",
   "execution_count": 578,
   "metadata": {
    "collapsed": true,
    "jupyter": {
     "outputs_hidden": true
    },
    "tags": []
   },
   "outputs": [
    {
     "data": {
      "text/plain": [
       "{'Browse': None,\n",
       " 'Groceries': None,\n",
       " 'Favourites': 'LogonView?logonCallerId=LogonButton&isDeliveryPoscodeValid=false&fromFooterMyAccountLink=true&storeId=10151&URL=',\n",
       " 'Offers': 'https://www.sainsburys.co.uk/shop/gb/groceries/great-offers',\n",
       " 'Discover': 'https://www.sainsburys.co.uk/shop/gb/groceries/discover',\n",
       " 'Recipes': 'http://recipes.sainsburys.co.uk',\n",
       " 'Book Delivery': 'https://www.sainsburys.co.uk/shop/PostcodeCheckView?currentPageUrl=http%3A%2F%2Fwww.sainsburys.co.uk%2Fshop%2FTopCategoriesDisplayView%3FcatalogId%3D10241%26storeId%3D10151%26langId%3D44&catalogId=10241&langId=44&storeId=10151',\n",
       " 'Delivery Pass': '/shop/gb/saver',\n",
       " 'Back': '#',\n",
       " 'Groceries home': 'https://www.sainsburys.co.uk/shop/MobileHomeView?storeId=10151&langId=44',\n",
       " 'Working to feed the nation': '/shop/gb/groceries/working-to-feed-the-nation-/latest-information--',\n",
       " 'Seasonal inspiration': 'https://www.sainsburys.co.uk/shop/gb/groceries/new---trending?fromMegaNav=1',\n",
       " 'Summer': 'https://www.sainsburys.co.uk/shop/gb/groceries/summer?fromMegaNav=1',\n",
       " 'Dietary & world foods': 'https://www.sainsburys.co.uk/shop/gb/groceries/dietary-and-lifestyle?fromMegaNav=1',\n",
       " 'Price Lock': 'https://www.sainsburys.co.uk/shop/gb/groceries/price-lock-?fromMegaNav=1',\n",
       " 'Fruit & vegetables': 'https://www.sainsburys.co.uk/shop/gb/groceries/fruit-veg?fromMegaNav=1',\n",
       " 'Meat & fish': 'https://www.sainsburys.co.uk/shop/gb/groceries/meat-fish?fromMegaNav=1',\n",
       " 'Dairy, eggs & chilled': 'https://www.sainsburys.co.uk/shop/gb/groceries/dairy-eggs-and-chilled?fromMegaNav=1',\n",
       " 'Bakery': 'https://www.sainsburys.co.uk/shop/gb/groceries/bakery?fromMegaNav=1',\n",
       " 'Frozen': 'https://www.sainsburys.co.uk/shop/gb/groceries/frozen-?fromMegaNav=1',\n",
       " 'Food cupboard': 'https://www.sainsburys.co.uk/shop/gb/groceries/food-cupboard?fromMegaNav=1',\n",
       " 'Drinks': 'https://www.sainsburys.co.uk/shop/gb/groceries/drinks?fromMegaNav=1',\n",
       " 'Household': 'https://www.sainsburys.co.uk/shop/gb/groceries/household?fromMegaNav=1',\n",
       " 'Beauty & cosmetics': 'https://www.sainsburys.co.uk/shop/gb/groceries/beauty-and-cosmetics?fromMegaNav=1',\n",
       " 'Toiletries & health': 'https://www.sainsburys.co.uk/shop/gb/groceries/health-beauty?fromMegaNav=1',\n",
       " 'Homeware & outdoor': 'https://www.sainsburys.co.uk/shop/gb/groceries/home?fromMegaNav=1',\n",
       " 'Baby & toddler': 'https://www.sainsburys.co.uk/shop/gb/groceries/baby-toddler-products?fromMegaNav=1',\n",
       " 'Pet': 'https://www.sainsburys.co.uk/shop/gb/groceries/pet?fromMegaNav=1',\n",
       " 'Features & articles': 'https://www.sainsburys.co.uk/shop/gb/groceries/features-and-articles?fromMegaNav=1'}"
      ]
     },
     "execution_count": 578,
     "metadata": {},
     "output_type": "execute_result"
    }
   ],
   "source": [
    "children = utils.navigate_root(utils.sainburys_home)\n",
    "children"
   ]
  },
  {
   "cell_type": "code",
   "execution_count": 345,
   "metadata": {},
   "outputs": [],
   "source": [
    "children_pages = {}\n",
    "for title,link in children.items():\n",
    "    sleep(1)\n",
    "    if link is None:\n",
    "        continue\n",
    "    if not link.startswith('https://www.sainsburys.co.uk/'):\n",
    "        continue\n",
    "    children_pages[title] = requests.get(link)"
   ]
  },
  {
   "cell_type": "code",
   "execution_count": 347,
   "metadata": {},
   "outputs": [],
   "source": [
    "children_soups = {\n",
    "    t:BeautifulSoup(resp.content.decode(), 'html.parser')\n",
    "    for t,resp in children_pages.items()\n",
    "}"
   ]
  },
  {
   "cell_type": "code",
   "execution_count": 350,
   "metadata": {},
   "outputs": [
    {
     "data": {
      "text/plain": [
       "119415"
      ]
     },
     "execution_count": 350,
     "metadata": {},
     "output_type": "execute_result"
    }
   ],
   "source": [
    "fruit = children_soups['Fruit & vegetables']\n",
    "Path('lvl1-fruit.html').write_text(fruit.prettify())"
   ]
  },
  {
   "cell_type": "code",
   "execution_count": 385,
   "metadata": {},
   "outputs": [
    {
     "data": {
      "text/plain": [
       "[(0, <span class=\"corner\"></span>),\n",
       " (1,\n",
       "  <a href=\"https://www.sainsburys.co.uk/shop/gb/groceries/fruit-veg\"><span>Fruit &amp; vegetables</span></a>),\n",
       " (2, '\\n'),\n",
       " (3, <span class=\"arrow last\"></span>),\n",
       " (4, '\\n'),\n",
       " (5,\n",
       "  <div>\n",
       "  <p>Select an option:</p>\n",
       "  <ul>\n",
       "  <li><a href=\"https://www.sainsburys.co.uk/shop/gb/groceries/fruit-veg/british-produce\">British produce</a></li>\n",
       "  <li><a href=\"https://www.sainsburys.co.uk/shop/gb/groceries/fruit-veg/fruitandveg-essentials\">Fruit &amp; veg essentials</a></li>\n",
       "  <li><a href=\"https://www.sainsburys.co.uk/shop/gb/groceries/fruit-veg/fresh-fruit\">Fresh fruit</a></li>\n",
       "  <li><a href=\"https://www.sainsburys.co.uk/shop/gb/groceries/fruit-veg/fresh-vegetables\">Fresh vegetables</a></li>\n",
       "  <li><a href=\"https://www.sainsburys.co.uk/shop/gb/groceries/fruit-veg/fresh-salad\">Fresh salad</a></li>\n",
       "  <li><a href=\"https://www.sainsburys.co.uk/shop/gb/groceries/fruit-veg/prepared-ready-to-eat\">Prepared fruit, veg &amp; salad</a></li>\n",
       "  <li><a href=\"https://www.sainsburys.co.uk/shop/gb/groceries/fruit-veg/fresh-herbs-ingredients\">Fresh herbs &amp; ingredients</a></li>\n",
       "  <li><a href=\"https://www.sainsburys.co.uk/shop/gb/groceries/fruit-veg/flowers---seeds\">Flowers &amp; plants</a></li>\n",
       "  <li><a href=\"https://www.sainsburys.co.uk/shop/gb/groceries/fruit-veg/organic\">Organic fruit &amp; vegetables</a></li>\n",
       "  <li><a href=\"https://www.sainsburys.co.uk/shop/gb/groceries/fruit-veg/fruit-veg-taste-the-difference\">Taste the Difference</a></li>\n",
       "  <li><a href=\"https://www.sainsburys.co.uk/shop/gb/groceries/fruit-veg/loose-produce\">Loose produce</a></li>\n",
       "  <li><a href=\"https://www.sainsburys.co.uk/shop/gb/groceries/fruit-veg/frozen-fruit---vegetables\">Frozen fruit &amp; vegetables</a></li>\n",
       "  <li><a href=\"https://www.sainsburys.co.uk/shop/gb/groceries/fruit-veg/eat-the-rainbow\">Eat the rainbow</a></li>\n",
       "  <li><a href=\"https://www.sainsburys.co.uk/shop/gb/groceries/fruit-veg/fruit-vegetables-build-a-salad\">Build a salad</a></li>\n",
       "  <li><a href=\"https://www.sainsburys.co.uk/shop/gb/groceries/fruit-veg/make-a-smoothie\">Make a smoothie</a></li>\n",
       "  <li><a href=\"https://www.sainsburys.co.uk/shop/gb/groceries/fruit-veg/new-in-season\">Best in season</a></li>\n",
       "  <li><a href=\"https://www.sainsburys.co.uk/shop/gb/groceries/fruit-veg/fruit-vegetables-special-offers\">Special offers</a></li>\n",
       "  </ul>\n",
       "  </div>),\n",
       " (6, '\\n')]"
      ]
     },
     "execution_count": 385,
     "metadata": {},
     "output_type": "execute_result"
    }
   ],
   "source": [
    "tmp = fruit.find_all(attrs = {'id':\"breadcrumbNav\"})\n",
    "fruit_breadcrumb = list(tmp)[0]\n",
    "list(enumerate(\n",
    "    list(\n",
    "        list(\n",
    "            list(fruit_breadcrumb.children)[3]\n",
    "            .children\n",
    "        )[1]\n",
    "    )#[5]#.children\n",
    "))"
   ]
  },
  {
   "cell_type": "code",
   "execution_count": 413,
   "metadata": {},
   "outputs": [
    {
     "data": {
      "text/plain": [
       "<li><a href=\"https://www.sainsburys.co.uk/shop/gb/groceries/fruit-veg/british-produce\">British produce</a></li>"
      ]
     },
     "execution_count": 413,
     "metadata": {},
     "output_type": "execute_result"
    }
   ],
   "source": [
    "i = 4\n",
    "list(enumerate(fruit_breadcrumb.descendants))[(i*5):((i+1)*5)]\n",
    "x = list(fruit_breadcrumb.descendants)[21]\n",
    "x"
   ]
  },
  {
   "cell_type": "code",
   "execution_count": 411,
   "metadata": {},
   "outputs": [
    {
     "data": {
      "text/plain": [
       "{'href': 'https://www.sainsburys.co.uk/shop/gb/groceries/fruit-veg/british-produce'}"
      ]
     },
     "execution_count": 411,
     "metadata": {},
     "output_type": "execute_result"
    }
   ],
   "source": [
    "x.contents[0].attrs"
   ]
  },
  {
   "cell_type": "code",
   "execution_count": 414,
   "metadata": {},
   "outputs": [
    {
     "data": {
      "text/plain": [
       "'li'"
      ]
     },
     "execution_count": 414,
     "metadata": {},
     "output_type": "execute_result"
    }
   ],
   "source": [
    "x.name"
   ]
  },
  {
   "cell_type": "code",
   "execution_count": 429,
   "metadata": {
    "collapsed": true,
    "jupyter": {
     "outputs_hidden": true
    },
    "tags": []
   },
   "outputs": [
    {
     "data": {
      "text/plain": [
       "[<li><a href=\"https://www.sainsburys.co.uk/shop/gb/groceries/fruit-veg/british-produce\">British produce</a></li>,\n",
       " <li><a href=\"https://www.sainsburys.co.uk/shop/gb/groceries/fruit-veg/fruitandveg-essentials\">Fruit &amp; veg essentials</a></li>,\n",
       " <li><a href=\"https://www.sainsburys.co.uk/shop/gb/groceries/fruit-veg/fresh-fruit\">Fresh fruit</a></li>,\n",
       " <li><a href=\"https://www.sainsburys.co.uk/shop/gb/groceries/fruit-veg/fresh-vegetables\">Fresh vegetables</a></li>,\n",
       " <li><a href=\"https://www.sainsburys.co.uk/shop/gb/groceries/fruit-veg/fresh-salad\">Fresh salad</a></li>,\n",
       " <li><a href=\"https://www.sainsburys.co.uk/shop/gb/groceries/fruit-veg/prepared-ready-to-eat\">Prepared fruit, veg &amp; salad</a></li>,\n",
       " <li><a href=\"https://www.sainsburys.co.uk/shop/gb/groceries/fruit-veg/fresh-herbs-ingredients\">Fresh herbs &amp; ingredients</a></li>,\n",
       " <li><a href=\"https://www.sainsburys.co.uk/shop/gb/groceries/fruit-veg/flowers---seeds\">Flowers &amp; plants</a></li>,\n",
       " <li><a href=\"https://www.sainsburys.co.uk/shop/gb/groceries/fruit-veg/organic\">Organic fruit &amp; vegetables</a></li>,\n",
       " <li><a href=\"https://www.sainsburys.co.uk/shop/gb/groceries/fruit-veg/fruit-veg-taste-the-difference\">Taste the Difference</a></li>,\n",
       " <li><a href=\"https://www.sainsburys.co.uk/shop/gb/groceries/fruit-veg/loose-produce\">Loose produce</a></li>,\n",
       " <li><a href=\"https://www.sainsburys.co.uk/shop/gb/groceries/fruit-veg/frozen-fruit---vegetables\">Frozen fruit &amp; vegetables</a></li>,\n",
       " <li><a href=\"https://www.sainsburys.co.uk/shop/gb/groceries/fruit-veg/eat-the-rainbow\">Eat the rainbow</a></li>,\n",
       " <li><a href=\"https://www.sainsburys.co.uk/shop/gb/groceries/fruit-veg/fruit-vegetables-build-a-salad\">Build a salad</a></li>,\n",
       " <li><a href=\"https://www.sainsburys.co.uk/shop/gb/groceries/fruit-veg/make-a-smoothie\">Make a smoothie</a></li>,\n",
       " <li><a href=\"https://www.sainsburys.co.uk/shop/gb/groceries/fruit-veg/new-in-season\">Best in season</a></li>,\n",
       " <li><a href=\"https://www.sainsburys.co.uk/shop/gb/groceries/fruit-veg/fruit-vegetables-special-offers\">Special offers</a></li>]"
      ]
     },
     "execution_count": 429,
     "metadata": {},
     "output_type": "execute_result"
    }
   ],
   "source": [
    "([\n",
    "    item for item in\n",
    "    fruit_breadcrumb.descendants\n",
    "    if getattr(item, 'name', '') == 'li'\n",
    "    and hasattr(getattr(item, 'contents', '')[0], 'attrs')\n",
    "    and getattr(item, 'contents')[0].attrs.get('href', '')\n",
    "])"
   ]
  },
  {
   "cell_type": "markdown",
   "metadata": {},
   "source": [
    "### Layer 2"
   ]
  },
  {
   "cell_type": "code",
   "execution_count": 433,
   "metadata": {},
   "outputs": [],
   "source": [
    "layer2 = \"https://www.sainsburys.co.uk/shop/gb/groceries/fruit-veg/fruitandveg-essentials\"\n",
    "layer2_req = requests.get(layer2)\n",
    "fruit_ess = BeautifulSoup(layer2_req.content.decode(), 'html.parser')"
   ]
  },
  {
   "cell_type": "code",
   "execution_count": 431,
   "metadata": {},
   "outputs": [
    {
     "data": {
      "text/plain": [
       "736875"
      ]
     },
     "execution_count": 431,
     "metadata": {},
     "output_type": "execute_result"
    }
   ],
   "source": [
    "Path('lvl2-fruit-essentials.html').write_text(fruit_ess.prettify())"
   ]
  },
  {
   "cell_type": "code",
   "execution_count": 432,
   "metadata": {},
   "outputs": [
    {
     "data": {
      "text/plain": [
       "60"
      ]
     },
     "execution_count": 432,
     "metadata": {},
     "output_type": "execute_result"
    }
   ],
   "source": [
    "grid_items = list(fruit_ess.find_all(attrs={\"class\":\"gridItem\"}))\n",
    "len(grid_items)"
   ]
  },
  {
   "cell_type": "markdown",
   "metadata": {},
   "source": [
    "#### Can we hack the page size?"
   ]
  },
  {
   "cell_type": "code",
   "execution_count": 437,
   "metadata": {},
   "outputs": [
    {
     "data": {
      "text/plain": [
       "['_content',\n",
       " '_content_consumed',\n",
       " '_next',\n",
       " 'status_code',\n",
       " 'headers',\n",
       " 'raw',\n",
       " 'url',\n",
       " 'encoding',\n",
       " 'history',\n",
       " 'reason',\n",
       " 'cookies',\n",
       " 'elapsed',\n",
       " 'request',\n",
       " 'connection']"
      ]
     },
     "execution_count": 437,
     "metadata": {},
     "output_type": "execute_result"
    }
   ],
   "source": [
    "layer2_req_vars = vars(layer2_req)\n",
    "list(layer2_req_vars.keys())"
   ]
  },
  {
   "cell_type": "code",
   "execution_count": null,
   "metadata": {},
   "outputs": [],
   "source": [
    "redir = vars(layer2_req_vars['history'][0])['headers']['Location']"
   ]
  },
  {
   "cell_type": "code",
   "execution_count": 568,
   "metadata": {},
   "outputs": [],
   "source": [
    "redir_mod_1 = re.sub(r'(storeId=\\d{1,7}&)',r'\\1beginIndex=0&pageSize=120&',redir)\n",
    "redir_mod_2 = re.sub(r'(storeId=\\d{1,7}&)',r'\\1beginIndex=60&pageSize=120&',redir)\n",
    "redir_mod_3 = re.sub(r'(storeId=\\d{1,7}&)',r'\\1beginIndex=120&pageSize=120&',redir)\n",
    "redir_mod_4 = re.sub(r'(storeId=\\d{1,7}&)',r'\\1beginIndex=180&pageSize=120&',redir)"
   ]
  },
  {
   "cell_type": "code",
   "execution_count": 569,
   "metadata": {},
   "outputs": [],
   "source": [
    "fruit_ess_2_req_1 = requests.get(redir_mod_1)\n",
    "fruit_ess_2_req_2 = requests.get(redir_mod_2)\n",
    "fruit_ess_2_req_3 = requests.get(redir_mod_3)\n",
    "fruit_ess_2_req_4 = requests.get(redir_mod_4)"
   ]
  },
  {
   "cell_type": "code",
   "execution_count": 570,
   "metadata": {},
   "outputs": [
    {
     "data": {
      "text/plain": [
       "(4819, 4819, 4809, 4829)"
      ]
     },
     "execution_count": 570,
     "metadata": {},
     "output_type": "execute_result"
    }
   ],
   "source": [
    "lines_1 = set(fruit_ess_2_req_1.content.decode().split(\"\\n\"))\n",
    "lines_2 = set(fruit_ess_2_req_2.content.decode().split(\"\\n\"))\n",
    "len(lines_1), len(lines_2), len(lines_1&lines_2), len(lines_1|lines_2)"
   ]
  },
  {
   "cell_type": "code",
   "execution_count": 571,
   "metadata": {},
   "outputs": [],
   "source": [
    "fruit_ess_2_bs_1 = BeautifulSoup(fruit_ess_2_req_1.content.decode(), 'html.parser')\n",
    "fruit_ess_2_bs_2 = BeautifulSoup(fruit_ess_2_req_2.content.decode(), 'html.parser')\n",
    "fruit_ess_2_bs_3 = BeautifulSoup(fruit_ess_2_req_3.content.decode(), 'html.parser')\n",
    "fruit_ess_2_bs_4 = BeautifulSoup(fruit_ess_2_req_4.content.decode(), 'html.parser')"
   ]
  },
  {
   "cell_type": "code",
   "execution_count": 572,
   "metadata": {},
   "outputs": [
    {
     "name": "stdout",
     "output_type": "stream",
     "text": [
      "120 120 120 120\n"
     ]
    }
   ],
   "source": [
    "print(\n",
    "    len(list(fruit_ess_2_bs_1.find_all(attrs={\"class\":\"gridItem\"}))),\n",
    "    len(list(fruit_ess_2_bs_2.find_all(attrs={\"class\":\"gridItem\"}))),\n",
    "    len(list(fruit_ess_2_bs_3.find_all(attrs={\"class\":\"gridItem\"}))),\n",
    "    len(list(fruit_ess_2_bs_4.find_all(attrs={\"class\":\"gridItem\"})))\n",
    ")"
   ]
  },
  {
   "cell_type": "code",
   "execution_count": 573,
   "metadata": {},
   "outputs": [],
   "source": [
    "def scrape_item_list(grid_items):\n",
    "    items = []\n",
    "    for i,g in enumerate(grid_items):\n",
    "        title, thubmnail = utils.scape_item_thumbnail(g)\n",
    "        price_unit       = utils.scrape_price_per_unit(g)\n",
    "        price_measure    = utils.scrape_price_per_measure(g)\n",
    "        items.append({\n",
    "            'title'         : title,\n",
    "            'thubmnail'     : thubmnail,\n",
    "            'price_unit'    : price_unit,\n",
    "            'price_measure' : price_measure\n",
    "        })\n",
    "    items_df = (\n",
    "        pd.DataFrame.from_dict(items)\n",
    "        .assign(scraping_date = str(datetime.now()))\n",
    "    )\n",
    "    return items_df"
   ]
  },
  {
   "cell_type": "code",
   "execution_count": 574,
   "metadata": {},
   "outputs": [],
   "source": [
    "fruit_ess_2_bs_1_df = scrape_item_list(fruit_ess_2_bs_1.find_all(attrs={\"class\":\"gridItem\"}))\n",
    "fruit_ess_2_bs_2_df = scrape_item_list(fruit_ess_2_bs_2.find_all(attrs={\"class\":\"gridItem\"}))\n",
    "fruit_ess_2_bs_3_df = scrape_item_list(fruit_ess_2_bs_3.find_all(attrs={\"class\":\"gridItem\"}))\n",
    "fruit_ess_2_bs_4_df = scrape_item_list(fruit_ess_2_bs_4.find_all(attrs={\"class\":\"gridItem\"}))"
   ]
  },
  {
   "cell_type": "code",
   "execution_count": 575,
   "metadata": {},
   "outputs": [
    {
     "data": {
      "text/plain": [
       "<matplotlib_venn._common.VennDiagram at 0x7fadde21fe20>"
      ]
     },
     "execution_count": 575,
     "metadata": {},
     "output_type": "execute_result"
    },
    {
     "data": {
      "image/png": "[encoded data removed]",
      "text/plain": [
       "<Figure size 1152x576 with 2 Axes>"
      ]
     },
     "metadata": {},
     "output_type": "display_data"
    }
   ],
   "source": [
    "plt.figure(figsize = (16,8), facecolor=\"white\")\n",
    "plt.subplot(121)\n",
    "venn3([\n",
    "    set(fruit_ess_2_bs_1_df['title']),\n",
    "    set(fruit_ess_2_bs_2_df['title']),\n",
    "    set(fruit_ess_2_bs_3_df['title'])\n",
    "], (1,2,3))\n",
    "plt.subplot(122)\n",
    "venn3([\n",
    "    set(fruit_ess_2_bs_4_df['title']),\n",
    "    set(fruit_ess_2_bs_2_df['title']),\n",
    "    set(fruit_ess_2_bs_3_df['title'])\n",
    "], (4,2,3))"
   ]
  },
  {
   "cell_type": "code",
   "execution_count": 565,
   "metadata": {},
   "outputs": [
    {
     "data": {
      "text/plain": [
       "[<h1 class=\"resultsHeading\" id=\"resultsHeading\">\n",
       " \t        Fruit &amp; veg essentials (161 products available)\n",
       " \t    </h1>]"
      ]
     },
     "execution_count": 565,
     "metadata": {},
     "output_type": "execute_result"
    }
   ],
   "source": [
    "fruit_ess_2_bs_1.find_all(attrs = {'id':\"resultsHeading\"})"
   ]
  },
  {
   "cell_type": "markdown",
   "metadata": {},
   "source": [
    "> Not in this way"
   ]
  },
  {
   "cell_type": "markdown",
   "metadata": {
    "tags": []
   },
   "source": [
    "# Selenium"
   ]
  },
  {
   "cell_type": "code",
   "execution_count": 3,
   "metadata": {},
   "outputs": [],
   "source": [
    "# layer2 = \"https://www.sainsburys.co.uk/shop/gb/groceries/fruit-veg/fruitandveg-essentials\"\n",
    "layer0 = \"https://www.sainsburys.co.uk/shop/gb/groceries\"\n",
    "driver = webdriver.Firefox()\n",
    "# driver.get(layer0)"
   ]
  },
  {
   "cell_type": "code",
   "execution_count": 9,
   "metadata": {},
   "outputs": [],
   "source": [
    "a = ActionChains(driver)\n",
    "driver.get(layer0)\n",
    "driver.title\n",
    "sleep(5)\n",
    "# Turn into Explicit Wait\n",
    "try:\n",
    "    cookies_button_xpath = \"\"\"//*[@id=\"onetrust-accept-btn-handler\"]\"\"\"\n",
    "    accept_cookies_button = driver.find_element(By.XPATH, cookies_button_xpath)\n",
    "    accept_cookies_button.click()\n",
    "except:\n",
    "    pass"
   ]
  },
  {
   "cell_type": "markdown",
   "metadata": {
    "tags": []
   },
   "source": [
    "## to hack page size"
   ]
  },
  {
   "cell_type": "code",
   "execution_count": 11,
   "metadata": {},
   "outputs": [
    {
     "data": {
      "text/plain": [
       "<selenium.webdriver.remote.webelement.WebElement (session=\"1389d10b-f131-4f25-9e95-7961cd781686\", element=\"efbd6f8a-e1bc-4a6b-842a-5f4af595928c\")>"
      ]
     },
     "execution_count": 11,
     "metadata": {},
     "output_type": "execute_result"
    }
   ],
   "source": [
    "elem = driver.find_element(By.ID, \"pageSize\")\n",
    "elem"
   ]
  },
  {
   "cell_type": "code",
   "execution_count": 12,
   "metadata": {},
   "outputs": [
    {
     "data": {
      "text/plain": [
       "<selenium.webdriver.remote.webelement.WebElement (session=\"1389d10b-f131-4f25-9e95-7961cd781686\", element=\"efbd6f8a-e1bc-4a6b-842a-5f4af595928c\")>"
      ]
     },
     "execution_count": 12,
     "metadata": {},
     "output_type": "execute_result"
    }
   ],
   "source": [
    "xpath = '//*[@id=\"pageSize\"]'\n",
    "elem = driver.find_element(By.XPATH, xpath)\n",
    "elem"
   ]
  },
  {
   "cell_type": "code",
   "execution_count": 13,
   "metadata": {},
   "outputs": [
    {
     "data": {
      "text/plain": [
       "['48', '60', '72', '90', '120']"
      ]
     },
     "execution_count": 13,
     "metadata": {},
     "output_type": "execute_result"
    }
   ],
   "source": [
    "[\n",
    "    e.get_attribute('value') for e in\n",
    "    elem.find_elements(By.TAG_NAME, 'option')\n",
    "]"
   ]
  },
  {
   "cell_type": "code",
   "execution_count": 14,
   "metadata": {
    "tags": []
   },
   "outputs": [
    {
     "ename": "StaleElementReferenceException",
     "evalue": "Message: The element reference of <select id=\"pageSize\" name=\"pageSize\"> is stale; either the element is no longer attached to the DOM, it is not in the current frame context, or the document has been refreshed\nStacktrace:\nWebDriverError@chrome://remote/content/shared/webdriver/Errors.jsm:186:5\nStaleElementReferenceError@chrome://remote/content/shared/webdriver/Errors.jsm:467:5\nelement.resolveElement@chrome://remote/content/marionette/element.js:681:11\nevaluate.fromJSON@chrome://remote/content/marionette/evaluate.js:254:26\nevaluate.fromJSON@chrome://remote/content/marionette/evaluate.js:262:29\nevaluate.fromJSON@chrome://remote/content/marionette/evaluate.js:262:29\nreceiveMessage@chrome://remote/content/marionette/actors/MarionetteCommandsChild.jsm:79:29\n",
     "output_type": "error",
     "traceback": [
      "\u001b[0;31m---------------------------------------------------------------------------\u001b[0m",
      "\u001b[0;31mStaleElementReferenceException\u001b[0m            Traceback (most recent call last)",
      "Input \u001b[0;32mIn [14]\u001b[0m, in \u001b[0;36m<cell line: 2>\u001b[0;34m()\u001b[0m\n\u001b[1;32m      7\u001b[0m     accept_cookies_button\u001b[38;5;241m.\u001b[39mclick()\n\u001b[1;32m      8\u001b[0m \u001b[38;5;28;01mfinally\u001b[39;00m:\n\u001b[0;32m----> 9\u001b[0m     \u001b[43mselect\u001b[49m\u001b[38;5;241;43m.\u001b[39;49m\u001b[43mselect_by_value\u001b[49m\u001b[43m(\u001b[49m\u001b[38;5;124;43m'\u001b[39;49m\u001b[38;5;124;43m120\u001b[39;49m\u001b[38;5;124;43m'\u001b[39;49m\u001b[43m)\u001b[49m\n",
      "File \u001b[0;32m~/miniconda3/envs/sainsburys-scraper/lib/python3.9/site-packages/selenium/webdriver/support/select.py:75\u001b[0m, in \u001b[0;36mSelect.select_by_value\u001b[0;34m(self, value)\u001b[0m\n\u001b[1;32m     64\u001b[0m \u001b[38;5;124;03m\"\"\"Select all options that have a value matching the argument. That is, when given \"foo\" this\u001b[39;00m\n\u001b[1;32m     65\u001b[0m \u001b[38;5;124;03m   would select an option like:\u001b[39;00m\n\u001b[1;32m     66\u001b[0m \n\u001b[0;32m   (...)\u001b[0m\n\u001b[1;32m     72\u001b[0m \u001b[38;5;124;03m   throws NoSuchElementException If there is no option with specified value in SELECT\u001b[39;00m\n\u001b[1;32m     73\u001b[0m \u001b[38;5;124;03m   \"\"\"\u001b[39;00m\n\u001b[1;32m     74\u001b[0m css \u001b[38;5;241m=\u001b[39m \u001b[38;5;124m\"\u001b[39m\u001b[38;5;124moption[value =\u001b[39m\u001b[38;5;132;01m%s\u001b[39;00m\u001b[38;5;124m]\u001b[39m\u001b[38;5;124m\"\u001b[39m \u001b[38;5;241m%\u001b[39m \u001b[38;5;28mself\u001b[39m\u001b[38;5;241m.\u001b[39m_escape_string(value)\n\u001b[0;32m---> 75\u001b[0m opts \u001b[38;5;241m=\u001b[39m \u001b[38;5;28;43mself\u001b[39;49m\u001b[38;5;241;43m.\u001b[39;49m\u001b[43m_el\u001b[49m\u001b[38;5;241;43m.\u001b[39;49m\u001b[43mfind_elements\u001b[49m\u001b[43m(\u001b[49m\u001b[43mBy\u001b[49m\u001b[38;5;241;43m.\u001b[39;49m\u001b[43mCSS_SELECTOR\u001b[49m\u001b[43m,\u001b[49m\u001b[43m \u001b[49m\u001b[43mcss\u001b[49m\u001b[43m)\u001b[49m\n\u001b[1;32m     76\u001b[0m matched \u001b[38;5;241m=\u001b[39m \u001b[38;5;28;01mFalse\u001b[39;00m\n\u001b[1;32m     77\u001b[0m \u001b[38;5;28;01mfor\u001b[39;00m opt \u001b[38;5;129;01min\u001b[39;00m opts:\n",
      "File \u001b[0;32m~/miniconda3/envs/sainsburys-scraper/lib/python3.9/site-packages/selenium/webdriver/remote/webelement.py:443\u001b[0m, in \u001b[0;36mWebElement.find_elements\u001b[0;34m(self, by, value)\u001b[0m\n\u001b[1;32m    440\u001b[0m     by \u001b[38;5;241m=\u001b[39m By\u001b[38;5;241m.\u001b[39mCSS_SELECTOR\n\u001b[1;32m    441\u001b[0m     value \u001b[38;5;241m=\u001b[39m \u001b[38;5;124m'\u001b[39m\u001b[38;5;124m[name=\u001b[39m\u001b[38;5;124m\"\u001b[39m\u001b[38;5;132;01m%s\u001b[39;00m\u001b[38;5;124m\"\u001b[39m\u001b[38;5;124m]\u001b[39m\u001b[38;5;124m'\u001b[39m \u001b[38;5;241m%\u001b[39m value\n\u001b[0;32m--> 443\u001b[0m \u001b[38;5;28;01mreturn\u001b[39;00m \u001b[38;5;28;43mself\u001b[39;49m\u001b[38;5;241;43m.\u001b[39;49m\u001b[43m_execute\u001b[49m\u001b[43m(\u001b[49m\u001b[43mCommand\u001b[49m\u001b[38;5;241;43m.\u001b[39;49m\u001b[43mFIND_CHILD_ELEMENTS\u001b[49m\u001b[43m,\u001b[49m\n\u001b[1;32m    444\u001b[0m \u001b[43m                     \u001b[49m\u001b[43m{\u001b[49m\u001b[38;5;124;43m\"\u001b[39;49m\u001b[38;5;124;43musing\u001b[39;49m\u001b[38;5;124;43m\"\u001b[39;49m\u001b[43m:\u001b[49m\u001b[43m \u001b[49m\u001b[43mby\u001b[49m\u001b[43m,\u001b[49m\u001b[43m \u001b[49m\u001b[38;5;124;43m\"\u001b[39;49m\u001b[38;5;124;43mvalue\u001b[39;49m\u001b[38;5;124;43m\"\u001b[39;49m\u001b[43m:\u001b[49m\u001b[43m \u001b[49m\u001b[43mvalue\u001b[49m\u001b[43m}\u001b[49m\u001b[43m)\u001b[49m[\u001b[38;5;124m'\u001b[39m\u001b[38;5;124mvalue\u001b[39m\u001b[38;5;124m'\u001b[39m]\n",
      "File \u001b[0;32m~/miniconda3/envs/sainsburys-scraper/lib/python3.9/site-packages/selenium/webdriver/remote/webelement.py:396\u001b[0m, in \u001b[0;36mWebElement._execute\u001b[0;34m(self, command, params)\u001b[0m\n\u001b[1;32m    394\u001b[0m     params \u001b[38;5;241m=\u001b[39m {}\n\u001b[1;32m    395\u001b[0m params[\u001b[38;5;124m'\u001b[39m\u001b[38;5;124mid\u001b[39m\u001b[38;5;124m'\u001b[39m] \u001b[38;5;241m=\u001b[39m \u001b[38;5;28mself\u001b[39m\u001b[38;5;241m.\u001b[39m_id\n\u001b[0;32m--> 396\u001b[0m \u001b[38;5;28;01mreturn\u001b[39;00m \u001b[38;5;28;43mself\u001b[39;49m\u001b[38;5;241;43m.\u001b[39;49m\u001b[43m_parent\u001b[49m\u001b[38;5;241;43m.\u001b[39;49m\u001b[43mexecute\u001b[49m\u001b[43m(\u001b[49m\u001b[43mcommand\u001b[49m\u001b[43m,\u001b[49m\u001b[43m \u001b[49m\u001b[43mparams\u001b[49m\u001b[43m)\u001b[49m\n",
      "File \u001b[0;32m~/miniconda3/envs/sainsburys-scraper/lib/python3.9/site-packages/selenium/webdriver/remote/webdriver.py:435\u001b[0m, in \u001b[0;36mWebDriver.execute\u001b[0;34m(self, driver_command, params)\u001b[0m\n\u001b[1;32m    433\u001b[0m response \u001b[38;5;241m=\u001b[39m \u001b[38;5;28mself\u001b[39m\u001b[38;5;241m.\u001b[39mcommand_executor\u001b[38;5;241m.\u001b[39mexecute(driver_command, params)\n\u001b[1;32m    434\u001b[0m \u001b[38;5;28;01mif\u001b[39;00m response:\n\u001b[0;32m--> 435\u001b[0m     \u001b[38;5;28;43mself\u001b[39;49m\u001b[38;5;241;43m.\u001b[39;49m\u001b[43merror_handler\u001b[49m\u001b[38;5;241;43m.\u001b[39;49m\u001b[43mcheck_response\u001b[49m\u001b[43m(\u001b[49m\u001b[43mresponse\u001b[49m\u001b[43m)\u001b[49m\n\u001b[1;32m    436\u001b[0m     response[\u001b[38;5;124m'\u001b[39m\u001b[38;5;124mvalue\u001b[39m\u001b[38;5;124m'\u001b[39m] \u001b[38;5;241m=\u001b[39m \u001b[38;5;28mself\u001b[39m\u001b[38;5;241m.\u001b[39m_unwrap_value(\n\u001b[1;32m    437\u001b[0m         response\u001b[38;5;241m.\u001b[39mget(\u001b[38;5;124m'\u001b[39m\u001b[38;5;124mvalue\u001b[39m\u001b[38;5;124m'\u001b[39m, \u001b[38;5;28;01mNone\u001b[39;00m))\n\u001b[1;32m    438\u001b[0m     \u001b[38;5;28;01mreturn\u001b[39;00m response\n",
      "File \u001b[0;32m~/miniconda3/envs/sainsburys-scraper/lib/python3.9/site-packages/selenium/webdriver/remote/errorhandler.py:247\u001b[0m, in \u001b[0;36mErrorHandler.check_response\u001b[0;34m(self, response)\u001b[0m\n\u001b[1;32m    245\u001b[0m         alert_text \u001b[38;5;241m=\u001b[39m value[\u001b[38;5;124m'\u001b[39m\u001b[38;5;124malert\u001b[39m\u001b[38;5;124m'\u001b[39m]\u001b[38;5;241m.\u001b[39mget(\u001b[38;5;124m'\u001b[39m\u001b[38;5;124mtext\u001b[39m\u001b[38;5;124m'\u001b[39m)\n\u001b[1;32m    246\u001b[0m     \u001b[38;5;28;01mraise\u001b[39;00m exception_class(message, screen, stacktrace, alert_text)  \u001b[38;5;66;03m# type: ignore[call-arg]  # mypy is not smart enough here\u001b[39;00m\n\u001b[0;32m--> 247\u001b[0m \u001b[38;5;28;01mraise\u001b[39;00m exception_class(message, screen, stacktrace)\n",
      "\u001b[0;31mStaleElementReferenceException\u001b[0m: Message: The element reference of <select id=\"pageSize\" name=\"pageSize\"> is stale; either the element is no longer attached to the DOM, it is not in the current frame context, or the document has been refreshed\nStacktrace:\nWebDriverError@chrome://remote/content/shared/webdriver/Errors.jsm:186:5\nStaleElementReferenceError@chrome://remote/content/shared/webdriver/Errors.jsm:467:5\nelement.resolveElement@chrome://remote/content/marionette/element.js:681:11\nevaluate.fromJSON@chrome://remote/content/marionette/evaluate.js:254:26\nevaluate.fromJSON@chrome://remote/content/marionette/evaluate.js:262:29\nevaluate.fromJSON@chrome://remote/content/marionette/evaluate.js:262:29\nreceiveMessage@chrome://remote/content/marionette/actors/MarionetteCommandsChild.jsm:79:29\n"
     ]
    }
   ],
   "source": [
    "select = Select(elem)\n",
    "try:\n",
    "    select.select_by_value('120')\n",
    "except ElementClickInterceptedException as e:\n",
    "    cookies_button_xpath = \"\"\"//*[@id=\"onetrust-accept-btn-handler\"]\"\"\"\n",
    "    accept_cookies_button = driver.find_element(By.XPATH, cookies_button_xpath)\n",
    "    accept_cookies_button.click()\n",
    "finally:\n",
    "    select.select_by_value('120')\n"
   ]
  },
  {
   "cell_type": "markdown",
   "metadata": {},
   "source": [
    "## N of items in page"
   ]
  },
  {
   "cell_type": "code",
   "execution_count": null,
   "metadata": {},
   "outputs": [],
   "source": [
    "elem = driver.find_element(By.ID, \"pageSize\")"
   ]
  },
  {
   "cell_type": "markdown",
   "metadata": {},
   "source": [
    "## Next page"
   ]
  },
  {
   "cell_type": "code",
   "execution_count": 669,
   "metadata": {},
   "outputs": [
    {
     "data": {
      "text/plain": [
       "<selenium.webdriver.remote.webelement.WebElement (session=\"e3571dd2-ec3b-46c3-992b-9b3317340127\", element=\"a04fc1d8-e876-490b-a417-0bba3800b952\")>"
      ]
     },
     "execution_count": 669,
     "metadata": {},
     "output_type": "execute_result"
    }
   ],
   "source": [
    "next_page_xpath = \"\"\"/html/body/div[8]/div[2]/div[1]/div[4]/div[2]/div[1]/ul[2]/li[3]/a\"\"\"\n",
    "next_page = driver.find_element(By.XPATH, next_page_xpath)\n",
    "next_page"
   ]
  },
  {
   "cell_type": "code",
   "execution_count": 669,
   "metadata": {},
   "outputs": [
    {
     "data": {
      "text/plain": [
       "<selenium.webdriver.remote.webelement.WebElement (session=\"e3571dd2-ec3b-46c3-992b-9b3317340127\", element=\"a04fc1d8-e876-490b-a417-0bba3800b952\")>"
      ]
     },
     "execution_count": 669,
     "metadata": {},
     "output_type": "execute_result"
    }
   ],
   "source": [
    "next_page_xpath = \"\"\"/html/body/div[8]/div[2]/div[1]/div[4]/div[2]/div[1]/ul[2]/li[3]/a\"\"\"\n",
    "next_page = driver.find_element(By.XPATH, next_page_xpath)\n",
    "next_page"
   ]
  },
  {
   "cell_type": "code",
   "execution_count": 670,
   "metadata": {},
   "outputs": [],
   "source": [
    "next_page.click()"
   ]
  },
  {
   "cell_type": "code",
   "execution_count": null,
   "metadata": {},
   "outputs": [],
   "source": [
    "# elem.clear()\n",
    "# elem.send_keys(\"pycon\")\n",
    "# elem.send_keys(Keys.RETURN)\n",
    "# assert \"No results found.\" not in driver.page_source\n",
    "# driver.close()"
   ]
  },
  {
   "cell_type": "code",
   "execution_count": 642,
   "metadata": {},
   "outputs": [],
   "source": [
    "driver.close()"
   ]
  },
  {
   "cell_type": "markdown",
   "metadata": {
    "jp-MarkdownHeadingCollapsed": true,
    "tags": []
   },
   "source": [
    "## Use `Groceries` to navigate categories"
   ]
  },
  {
   "cell_type": "code",
   "execution_count": 784,
   "metadata": {},
   "outputs": [
    {
     "data": {
      "text/plain": [
       "<selenium.webdriver.remote.webelement.WebElement (session=\"f13ac1a5-da5a-436e-8687-dc678b3dd473\", element=\"de78bb3f-9080-4177-8538-01148200bfd1\")>"
      ]
     },
     "execution_count": 784,
     "metadata": {},
     "output_type": "execute_result"
    }
   ],
   "source": [
    "main_arrow_x = \"\"\"//*[@id=\"mainNavArrow\"]\"\"\"\n",
    "arrow = driver.find_element(By.XPATH, main_arrow_x)\n",
    "arrow"
   ]
  },
  {
   "cell_type": "code",
   "execution_count": 785,
   "metadata": {},
   "outputs": [
    {
     "data": {
      "text/plain": [
       "<selenium.webdriver.remote.webelement.WebElement (session=\"f13ac1a5-da5a-436e-8687-dc678b3dd473\", element=\"4f17f503-2140-43e6-a729-9245dee1c086\")>"
      ]
     },
     "execution_count": 785,
     "metadata": {},
     "output_type": "execute_result"
    }
   ],
   "source": [
    "# main_arrow_x = \"\"\"//*[@id=\"mainNavArrow\"]\"\"\"\n",
    "arrow = driver.find_element(By.LINK_TEXT, \"Groceries\")\n",
    "arrow"
   ]
  },
  {
   "cell_type": "code",
   "execution_count": 786,
   "metadata": {},
   "outputs": [],
   "source": [
    "a = ActionChains(driver)\n",
    "#hover over element\n",
    "a.move_to_element(arrow).perform()"
   ]
  },
  {
   "cell_type": "code",
   "execution_count": 691,
   "metadata": {},
   "outputs": [
    {
     "data": {
      "text/plain": [
       "<selenium.webdriver.remote.webelement.WebElement (session=\"e3571dd2-ec3b-46c3-992b-9b3317340127\", element=\"0591865d-d107-4ab5-a62c-e3c0025bf35e\")>"
      ]
     },
     "execution_count": 691,
     "metadata": {},
     "output_type": "execute_result"
    }
   ],
   "source": [
    "fruit_in_menu = driver.find_element(By.LINK_TEXT, \"Fruit & vegetables\")\n",
    "fruit_in_menu"
   ]
  },
  {
   "cell_type": "code",
   "execution_count": 694,
   "metadata": {},
   "outputs": [
    {
     "data": {
      "text/plain": [
       "<selenium.webdriver.remote.webelement.WebElement (session=\"e3571dd2-ec3b-46c3-992b-9b3317340127\", element=\"0591865d-d107-4ab5-a62c-e3c0025bf35e\")>"
      ]
     },
     "execution_count": 694,
     "metadata": {},
     "output_type": "execute_result"
    }
   ],
   "source": [
    "fruit_in_menu_xpath = \"\"\"/html/body/div[8]/div[1]/div/div[3]/div[2]/div/div[2]/ul[2]/li[8]/a\"\"\"\n",
    "fruit_in_menu = driver.find_element(By.XPATH, fruit_in_menu_xpath)\n",
    "fruit_in_menu"
   ]
  },
  {
   "cell_type": "code",
   "execution_count": 734,
   "metadata": {
    "collapsed": true,
    "jupyter": {
     "outputs_hidden": true
    },
    "tags": []
   },
   "outputs": [
    {
     "ename": "StaleElementReferenceException",
     "evalue": "Message: The element reference of [object String] \"{\\\"element-6066-11e4-a52e-4f735466cecf\\\":\\\"0591865d-d107-4ab5-a62c-e3c0025bf35e\\\"}\" is stale; either the element is no longer attached to the DOM, it is not in the current frame context, or the document has been refreshed\nStacktrace:\nWebDriverError@chrome://remote/content/shared/webdriver/Errors.jsm:183:5\nStaleElementReferenceError@chrome://remote/content/shared/webdriver/Errors.jsm:464:5\nelement.resolveElement@chrome://remote/content/marionette/element.js:681:11\nevaluate.fromJSON@chrome://remote/content/marionette/evaluate.js:254:26\nevaluate.fromJSON@chrome://remote/content/marionette/evaluate.js:262:29\nevaluate.fromJSON/<@chrome://remote/content/marionette/evaluate.js:245:38\nevaluate.fromJSON@chrome://remote/content/marionette/evaluate.js:245:20\nevaluate.fromJSON@chrome://remote/content/marionette/evaluate.js:262:29\nevaluate.fromJSON/<@chrome://remote/content/marionette/evaluate.js:245:38\nevaluate.fromJSON@chrome://remote/content/marionette/evaluate.js:245:20\nevaluate.fromJSON@chrome://remote/content/marionette/evaluate.js:262:29\nreceiveMessage@chrome://remote/content/marionette/actors/MarionetteCommandsChild.jsm:79:29\n",
     "output_type": "error",
     "traceback": [
      "\u001b[0;31m---------------------------------------------------------------------------\u001b[0m",
      "\u001b[0;31mStaleElementReferenceException\u001b[0m            Traceback (most recent call last)",
      "Input \u001b[0;32mIn [734]\u001b[0m, in \u001b[0;36m<cell line: 1>\u001b[0;34m()\u001b[0m\n\u001b[0;32m----> 1\u001b[0m \u001b[43ma\u001b[49m\u001b[38;5;241;43m.\u001b[39;49m\u001b[43mmove_to_element\u001b[49m\u001b[43m(\u001b[49m\u001b[43mfruit_in_menu\u001b[49m\u001b[43m)\u001b[49m\u001b[38;5;241;43m.\u001b[39;49m\u001b[43mperform\u001b[49m\u001b[43m(\u001b[49m\u001b[43m)\u001b[49m\n",
      "File \u001b[0;32m~/miniconda3/envs/sainsburys-scraper/lib/python3.9/site-packages/selenium/webdriver/common/action_chains.py:78\u001b[0m, in \u001b[0;36mActionChains.perform\u001b[0;34m(self)\u001b[0m\n\u001b[1;32m     74\u001b[0m \u001b[38;5;28;01mdef\u001b[39;00m \u001b[38;5;21mperform\u001b[39m(\u001b[38;5;28mself\u001b[39m):\n\u001b[1;32m     75\u001b[0m     \u001b[38;5;124;03m\"\"\"\u001b[39;00m\n\u001b[1;32m     76\u001b[0m \u001b[38;5;124;03m    Performs all stored actions.\u001b[39;00m\n\u001b[1;32m     77\u001b[0m \u001b[38;5;124;03m    \"\"\"\u001b[39;00m\n\u001b[0;32m---> 78\u001b[0m     \u001b[38;5;28;43mself\u001b[39;49m\u001b[38;5;241;43m.\u001b[39;49m\u001b[43mw3c_actions\u001b[49m\u001b[38;5;241;43m.\u001b[39;49m\u001b[43mperform\u001b[49m\u001b[43m(\u001b[49m\u001b[43m)\u001b[49m\n",
      "File \u001b[0;32m~/miniconda3/envs/sainsburys-scraper/lib/python3.9/site-packages/selenium/webdriver/common/actions/action_builder.py:88\u001b[0m, in \u001b[0;36mActionBuilder.perform\u001b[0;34m(self)\u001b[0m\n\u001b[1;32m     86\u001b[0m         enc[\u001b[38;5;124m\"\u001b[39m\u001b[38;5;124mactions\u001b[39m\u001b[38;5;124m\"\u001b[39m]\u001b[38;5;241m.\u001b[39mappend(encoded)\n\u001b[1;32m     87\u001b[0m         device\u001b[38;5;241m.\u001b[39mactions \u001b[38;5;241m=\u001b[39m []\n\u001b[0;32m---> 88\u001b[0m \u001b[38;5;28;43mself\u001b[39;49m\u001b[38;5;241;43m.\u001b[39;49m\u001b[43mdriver\u001b[49m\u001b[38;5;241;43m.\u001b[39;49m\u001b[43mexecute\u001b[49m\u001b[43m(\u001b[49m\u001b[43mCommand\u001b[49m\u001b[38;5;241;43m.\u001b[39;49m\u001b[43mW3C_ACTIONS\u001b[49m\u001b[43m,\u001b[49m\u001b[43m \u001b[49m\u001b[43menc\u001b[49m\u001b[43m)\u001b[49m\n",
      "File \u001b[0;32m~/miniconda3/envs/sainsburys-scraper/lib/python3.9/site-packages/selenium/webdriver/remote/webdriver.py:435\u001b[0m, in \u001b[0;36mWebDriver.execute\u001b[0;34m(self, driver_command, params)\u001b[0m\n\u001b[1;32m    433\u001b[0m response \u001b[38;5;241m=\u001b[39m \u001b[38;5;28mself\u001b[39m\u001b[38;5;241m.\u001b[39mcommand_executor\u001b[38;5;241m.\u001b[39mexecute(driver_command, params)\n\u001b[1;32m    434\u001b[0m \u001b[38;5;28;01mif\u001b[39;00m response:\n\u001b[0;32m--> 435\u001b[0m     \u001b[38;5;28;43mself\u001b[39;49m\u001b[38;5;241;43m.\u001b[39;49m\u001b[43merror_handler\u001b[49m\u001b[38;5;241;43m.\u001b[39;49m\u001b[43mcheck_response\u001b[49m\u001b[43m(\u001b[49m\u001b[43mresponse\u001b[49m\u001b[43m)\u001b[49m\n\u001b[1;32m    436\u001b[0m     response[\u001b[38;5;124m'\u001b[39m\u001b[38;5;124mvalue\u001b[39m\u001b[38;5;124m'\u001b[39m] \u001b[38;5;241m=\u001b[39m \u001b[38;5;28mself\u001b[39m\u001b[38;5;241m.\u001b[39m_unwrap_value(\n\u001b[1;32m    437\u001b[0m         response\u001b[38;5;241m.\u001b[39mget(\u001b[38;5;124m'\u001b[39m\u001b[38;5;124mvalue\u001b[39m\u001b[38;5;124m'\u001b[39m, \u001b[38;5;28;01mNone\u001b[39;00m))\n\u001b[1;32m    438\u001b[0m     \u001b[38;5;28;01mreturn\u001b[39;00m response\n",
      "File \u001b[0;32m~/miniconda3/envs/sainsburys-scraper/lib/python3.9/site-packages/selenium/webdriver/remote/errorhandler.py:247\u001b[0m, in \u001b[0;36mErrorHandler.check_response\u001b[0;34m(self, response)\u001b[0m\n\u001b[1;32m    245\u001b[0m         alert_text \u001b[38;5;241m=\u001b[39m value[\u001b[38;5;124m'\u001b[39m\u001b[38;5;124malert\u001b[39m\u001b[38;5;124m'\u001b[39m]\u001b[38;5;241m.\u001b[39mget(\u001b[38;5;124m'\u001b[39m\u001b[38;5;124mtext\u001b[39m\u001b[38;5;124m'\u001b[39m)\n\u001b[1;32m    246\u001b[0m     \u001b[38;5;28;01mraise\u001b[39;00m exception_class(message, screen, stacktrace, alert_text)  \u001b[38;5;66;03m# type: ignore[call-arg]  # mypy is not smart enough here\u001b[39;00m\n\u001b[0;32m--> 247\u001b[0m \u001b[38;5;28;01mraise\u001b[39;00m exception_class(message, screen, stacktrace)\n",
      "\u001b[0;31mStaleElementReferenceException\u001b[0m: Message: The element reference of [object String] \"{\\\"element-6066-11e4-a52e-4f735466cecf\\\":\\\"0591865d-d107-4ab5-a62c-e3c0025bf35e\\\"}\" is stale; either the element is no longer attached to the DOM, it is not in the current frame context, or the document has been refreshed\nStacktrace:\nWebDriverError@chrome://remote/content/shared/webdriver/Errors.jsm:183:5\nStaleElementReferenceError@chrome://remote/content/shared/webdriver/Errors.jsm:464:5\nelement.resolveElement@chrome://remote/content/marionette/element.js:681:11\nevaluate.fromJSON@chrome://remote/content/marionette/evaluate.js:254:26\nevaluate.fromJSON@chrome://remote/content/marionette/evaluate.js:262:29\nevaluate.fromJSON/<@chrome://remote/content/marionette/evaluate.js:245:38\nevaluate.fromJSON@chrome://remote/content/marionette/evaluate.js:245:20\nevaluate.fromJSON@chrome://remote/content/marionette/evaluate.js:262:29\nevaluate.fromJSON/<@chrome://remote/content/marionette/evaluate.js:245:38\nevaluate.fromJSON@chrome://remote/content/marionette/evaluate.js:245:20\nevaluate.fromJSON@chrome://remote/content/marionette/evaluate.js:262:29\nreceiveMessage@chrome://remote/content/marionette/actors/MarionetteCommandsChild.jsm:79:29\n"
     ]
    }
   ],
   "source": [
    "a.move_to_element(fruit_in_menu).perform()"
   ]
  },
  {
   "cell_type": "markdown",
   "metadata": {
    "tags": []
   },
   "source": [
    "## Navigate Groceries List"
   ]
  },
  {
   "cell_type": "code",
   "execution_count": 946,
   "metadata": {},
   "outputs": [],
   "source": [
    "arrow = driver.find_element(By.LINK_TEXT, \"Groceries\")\n",
    "a.move_to_element(arrow).perform()"
   ]
  },
  {
   "cell_type": "code",
   "execution_count": 941,
   "metadata": {},
   "outputs": [
    {
     "data": {
      "text/plain": [
       "19"
      ]
     },
     "execution_count": 941,
     "metadata": {},
     "output_type": "execute_result"
    }
   ],
   "source": [
    "# groceries_list = driver.find_elements(By.CLASS_NAME, \"megaNavLink.megaNavActiveLink\")\n",
    "groceries_list = [\n",
    "    item for item in\n",
    "    driver.find_elements(By.CLASS_NAME, \"megaNavListItem\")\n",
    "    if item.rect['x'] != 0 and item.rect['x'] != 0\n",
    "]\n",
    "# groceries_list[0].click()\n",
    "# groceries_list.is_displayed()\n",
    "len(groceries_list)"
   ]
  },
  {
   "cell_type": "markdown",
   "metadata": {
    "tags": []
   },
   "source": [
    "### Exploratory"
   ]
  },
  {
   "cell_type": "code",
   "execution_count": 942,
   "metadata": {},
   "outputs": [
    {
     "data": {
      "text/plain": [
       "[(0,\n",
       "  'Working to feed the nation',\n",
       "  {'x': 54.0, 'y': 195.0, 'width': 223.0, 'height': 34.0}),\n",
       " (1,\n",
       "  'Seasonal inspiration',\n",
       "  {'x': 54.0, 'y': 229.0, 'width': 223.0, 'height': 34.0}),\n",
       " (2, 'Summer', {'x': 54.0, 'y': 263.0, 'width': 223.0, 'height': 34.0}),\n",
       " (3,\n",
       "  'Dietary & world foods',\n",
       "  {'x': 54.0, 'y': 297.0, 'width': 223.0, 'height': 34.0}),\n",
       " (4, 'Price Lock', {'x': 54.0, 'y': 331.0, 'width': 223.0, 'height': 34.0}),\n",
       " (5,\n",
       "  'Fruit & vegetables',\n",
       "  {'x': 54.0, 'y': 365.0, 'width': 223.0, 'height': 34.0}),\n",
       " (6, 'Meat & fish', {'x': 54.0, 'y': 399.0, 'width': 223.0, 'height': 34.0}),\n",
       " (7,\n",
       "  'Dairy, eggs & chilled',\n",
       "  {'x': 54.0, 'y': 433.0, 'width': 223.0, 'height': 34.0}),\n",
       " (8, 'Bakery', {'x': 54.0, 'y': 467.0, 'width': 223.0, 'height': 34.0}),\n",
       " (9, 'Frozen', {'x': 54.0, 'y': 501.0, 'width': 223.0, 'height': 34.0}),\n",
       " (10,\n",
       "  'Food cupboard',\n",
       "  {'x': 54.0, 'y': 535.0, 'width': 223.0, 'height': 34.0}),\n",
       " (11, 'Drinks', {'x': 54.0, 'y': 569.0, 'width': 223.0, 'height': 34.0}),\n",
       " (12, 'Household', {'x': 54.0, 'y': 603.0, 'width': 223.0, 'height': 34.0}),\n",
       " (13,\n",
       "  'Beauty & cosmetics',\n",
       "  {'x': 54.0, 'y': 637.0, 'width': 223.0, 'height': 34.0}),\n",
       " (14,\n",
       "  'Toiletries & health',\n",
       "  {'x': 54.0, 'y': 671.0, 'width': 223.0, 'height': 34.0}),\n",
       " (15,\n",
       "  'Homeware & outdoor',\n",
       "  {'x': 54.0, 'y': 705.0, 'width': 223.0, 'height': 34.0}),\n",
       " (16,\n",
       "  'Baby & toddler',\n",
       "  {'x': 54.0, 'y': 739.0, 'width': 223.0, 'height': 34.0}),\n",
       " (17, 'Pet', {'x': 54.0, 'y': 773.0, 'width': 223.0, 'height': 34.0}),\n",
       " (18,\n",
       "  'Features & articles',\n",
       "  {'x': 54.0, 'y': 807.0, 'width': 223.0, 'height': 34.0})]"
      ]
     },
     "execution_count": 942,
     "metadata": {},
     "output_type": "execute_result"
    }
   ],
   "source": [
    "[(i, item.text, item.rect) for i,item in enumerate(groceries_list)]"
   ]
  },
  {
   "cell_type": "code",
   "execution_count": 930,
   "metadata": {},
   "outputs": [],
   "source": [
    "a.move_to_element(groceries_list[1]).perform()"
   ]
  },
  {
   "cell_type": "code",
   "execution_count": 953,
   "metadata": {},
   "outputs": [],
   "source": [
    "a.move_to_element(groceries_list[5]).perform()"
   ]
  },
  {
   "cell_type": "markdown",
   "metadata": {},
   "source": [
    "> Moving directly sometimes does not work. Make sure to move item by item"
   ]
  },
  {
   "cell_type": "code",
   "execution_count": 908,
   "metadata": {},
   "outputs": [],
   "source": [
    "a.move_to_element(groceries_list[5]).click().perform()"
   ]
  },
  {
   "cell_type": "code",
   "execution_count": 954,
   "metadata": {},
   "outputs": [],
   "source": [
    "groceries_list_lvl1 = [\n",
    "            item for item in\n",
    "            driver.find_elements(By.CLASS_NAME, \"megaNavListItem\")\n",
    "            if item.rect['x'] != 0 and item.rect['x'] != 0\n",
    "        ]"
   ]
  },
  {
   "cell_type": "code",
   "execution_count": 955,
   "metadata": {},
   "outputs": [
    {
     "data": {
      "text/plain": [
       "[\"    Working to feed the nation|{'x': 54.0, 'y': 195.0, 'width': 223.0, 'height': 34.0})\",\n",
       " \"          Seasonal inspiration|{'x': 54.0, 'y': 229.0, 'width': 223.0, 'height': 34.0})\",\n",
       " \"                        Summer|{'x': 54.0, 'y': 263.0, 'width': 223.0, 'height': 34.0})\",\n",
       " \"         Dietary & world foods|{'x': 54.0, 'y': 297.0, 'width': 223.0, 'height': 34.0})\",\n",
       " \"                    Price Lock|{'x': 54.0, 'y': 331.0, 'width': 223.0, 'height': 34.0})\",\n",
       " \"            Fruit & vegetables|{'x': 54.0, 'y': 365.0, 'width': 223.0, 'height': 34.0})\",\n",
       " \"                   Meat & fish|{'x': 54.0, 'y': 399.0, 'width': 223.0, 'height': 34.0})\",\n",
       " \"         Dairy, eggs & chilled|{'x': 54.0, 'y': 433.0, 'width': 223.0, 'height': 34.0})\",\n",
       " \"                        Bakery|{'x': 54.0, 'y': 467.0, 'width': 223.0, 'height': 34.0})\",\n",
       " \"                        Frozen|{'x': 54.0, 'y': 501.0, 'width': 223.0, 'height': 34.0})\",\n",
       " \"                 Food cupboard|{'x': 54.0, 'y': 535.0, 'width': 223.0, 'height': 34.0})\",\n",
       " \"                        Drinks|{'x': 54.0, 'y': 569.0, 'width': 223.0, 'height': 34.0})\",\n",
       " \"                     Household|{'x': 54.0, 'y': 603.0, 'width': 223.0, 'height': 34.0})\",\n",
       " \"            Beauty & cosmetics|{'x': 54.0, 'y': 637.0, 'width': 223.0, 'height': 34.0})\",\n",
       " \"           Toiletries & health|{'x': 54.0, 'y': 671.0, 'width': 223.0, 'height': 34.0})\",\n",
       " \"            Homeware & outdoor|{'x': 54.0, 'y': 705.0, 'width': 223.0, 'height': 34.0})\",\n",
       " \"                Baby & toddler|{'x': 54.0, 'y': 739.0, 'width': 223.0, 'height': 34.0})\",\n",
       " \"                           Pet|{'x': 54.0, 'y': 773.0, 'width': 223.0, 'height': 34.0})\",\n",
       " \"           Features & articles|{'x': 54.0, 'y': 807.0, 'width': 223.0, 'height': 34.0})\",\n",
       " \"       Fruit & vegetables Home|{'x': 279.0, 'y': 195.0, 'width': 223.0, 'height': 34.0})\",\n",
       " \"               British produce|{'x': 279.0, 'y': 229.0, 'width': 223.0, 'height': 34.0})\",\n",
       " \"        Fruit & veg essentials|{'x': 279.0, 'y': 263.0, 'width': 223.0, 'height': 34.0})\",\n",
       " \"                   Fresh fruit|{'x': 279.0, 'y': 297.0, 'width': 223.0, 'height': 34.0})\",\n",
       " \"              Fresh vegetables|{'x': 279.0, 'y': 331.0, 'width': 223.0, 'height': 34.0})\",\n",
       " \"                   Fresh salad|{'x': 279.0, 'y': 365.0, 'width': 223.0, 'height': 34.0})\",\n",
       " \"   Prepared fruit, veg & salad|{'x': 279.0, 'y': 399.0, 'width': 223.0, 'height': 34.0})\",\n",
       " \"     Fresh herbs & ingredients|{'x': 279.0, 'y': 433.0, 'width': 223.0, 'height': 34.0})\",\n",
       " \"              Flowers & plants|{'x': 279.0, 'y': 467.0, 'width': 223.0, 'height': 34.0})\",\n",
       " \"    Organic fruit & vegetables|{'x': 279.0, 'y': 501.0, 'width': 223.0, 'height': 34.0})\",\n",
       " \"          Taste the Difference|{'x': 279.0, 'y': 535.0, 'width': 223.0, 'height': 34.0})\",\n",
       " \"                 Loose produce|{'x': 279.0, 'y': 569.0, 'width': 223.0, 'height': 34.0})\",\n",
       " \"     Frozen fruit & vegetables|{'x': 279.0, 'y': 603.0, 'width': 223.0, 'height': 34.0})\",\n",
       " \"               Eat the rainbow|{'x': 279.0, 'y': 637.0, 'width': 223.0, 'height': 34.0})\",\n",
       " \"                 Build a salad|{'x': 279.0, 'y': 671.0, 'width': 223.0, 'height': 34.0})\",\n",
       " \"               Make a smoothie|{'x': 279.0, 'y': 705.0, 'width': 223.0, 'height': 34.0})\",\n",
       " \"                Best in season|{'x': 279.0, 'y': 739.0, 'width': 223.0, 'height': 34.0})\",\n",
       " \"                Special offers|{'x': 279.0, 'y': 773.0, 'width': 223.0, 'height': 34.0})\",\n",
       " \"    See all Fruit & vegetables|{'x': 279.0, 'y': 807.0, 'width': 223.0, 'height': 34.0})\",\n",
       " \"Don't miss\\nPerfect for BBQ's\\nShop now|{'x': 504.0, 'y': 195.0, 'width': 225.0, 'height': 413.0})\"]"
      ]
     },
     "execution_count": 955,
     "metadata": {},
     "output_type": "execute_result"
    }
   ],
   "source": [
    "[f\"{item.text:>30}|{item.rect})\" for item in groceries_list_lvl1]"
   ]
  },
  {
   "cell_type": "code",
   "execution_count": 956,
   "metadata": {},
   "outputs": [],
   "source": [
    "gro_dict = {item.text:item for item in \n",
    "            driver.find_elements(By.CLASS_NAME, \"megaNavListItem\")\n",
    "            if item.rect['x'] != 0 and item.rect['x'] != 0}"
   ]
  },
  {
   "cell_type": "code",
   "execution_count": 962,
   "metadata": {},
   "outputs": [],
   "source": [
    "# key = \"Fresh salad\"\n",
    "key = \"Fruit & veg essentials\""
   ]
  },
  {
   "cell_type": "code",
   "execution_count": 963,
   "metadata": {},
   "outputs": [
    {
     "data": {
      "text/plain": [
       "'Fruit & veg essentials'"
      ]
     },
     "execution_count": 963,
     "metadata": {},
     "output_type": "execute_result"
    }
   ],
   "source": [
    "gro_dict[key].text"
   ]
  },
  {
   "cell_type": "code",
   "execution_count": 964,
   "metadata": {},
   "outputs": [],
   "source": [
    "gro_dict[key].get_attribute('href')"
   ]
  },
  {
   "cell_type": "code",
   "execution_count": 965,
   "metadata": {},
   "outputs": [
    {
     "data": {
      "text/plain": [
       "'0'"
      ]
     },
     "execution_count": 965,
     "metadata": {},
     "output_type": "execute_result"
    }
   ],
   "source": [
    "gro_dict[key].get_attribute('value')"
   ]
  },
  {
   "cell_type": "code",
   "execution_count": 966,
   "metadata": {},
   "outputs": [
    {
     "data": {
      "text/plain": [
       "'British produce'"
      ]
     },
     "execution_count": 966,
     "metadata": {},
     "output_type": "execute_result"
    }
   ],
   "source": [
    "groceries_list_lvl1[20].text"
   ]
  },
  {
   "cell_type": "code",
   "execution_count": 967,
   "metadata": {},
   "outputs": [],
   "source": [
    "a.move_to_element(groceries_list_lvl1[20]).perform()\n",
    "groceries_list_lvl1[20].click()"
   ]
  },
  {
   "cell_type": "markdown",
   "metadata": {},
   "source": [
    "for at in dir(groceries_list_lvl1[20]):\n",
    "    if not at.startswith('__'):\n",
    "        try:\n",
    "            print((at, getattr(groceries_list_lvl1[20], at)))\n",
    "        except:\n",
    "            print(at, 'failed')"
   ]
  },
  {
   "cell_type": "code",
   "execution_count": 853,
   "metadata": {
    "collapsed": true,
    "jupyter": {
     "outputs_hidden": true
    },
    "tags": []
   },
   "outputs": [
    {
     "ename": "StaleElementReferenceException",
     "evalue": "Message: The element reference of <li class=\"megaNavListItem\"> is stale; either the element is no longer attached to the DOM, it is not in the current frame context, or the document has been refreshed\nStacktrace:\nWebDriverError@chrome://remote/content/shared/webdriver/Errors.jsm:183:5\nStaleElementReferenceError@chrome://remote/content/shared/webdriver/Errors.jsm:464:5\nelement.resolveElement@chrome://remote/content/marionette/element.js:681:11\nevaluate.fromJSON@chrome://remote/content/marionette/evaluate.js:254:26\nevaluate.fromJSON@chrome://remote/content/marionette/evaluate.js:262:29\nreceiveMessage@chrome://remote/content/marionette/actors/MarionetteCommandsChild.jsm:79:29\n",
     "output_type": "error",
     "traceback": [
      "\u001b[0;31m---------------------------------------------------------------------------\u001b[0m",
      "\u001b[0;31mStaleElementReferenceException\u001b[0m            Traceback (most recent call last)",
      "Input \u001b[0;32mIn [853]\u001b[0m, in \u001b[0;36m<cell line: 1>\u001b[0;34m()\u001b[0m\n\u001b[1;32m      1\u001b[0m \u001b[38;5;28;01mfor\u001b[39;00m item \u001b[38;5;129;01min\u001b[39;00m groceries_list_lvl1:\n\u001b[0;32m----> 2\u001b[0m     \u001b[38;5;28;01mif\u001b[39;00m \u001b[43mitem\u001b[49m\u001b[38;5;241;43m.\u001b[39;49m\u001b[43mtext\u001b[49m \u001b[38;5;241m==\u001b[39m \u001b[38;5;124m\"\u001b[39m\u001b[38;5;124mFresh fruit\u001b[39m\u001b[38;5;124m\"\u001b[39m:\n\u001b[1;32m      3\u001b[0m         a\u001b[38;5;241m.\u001b[39mmove_to_element(item)\u001b[38;5;241m.\u001b[39mperform()\n",
      "File \u001b[0;32m~/miniconda3/envs/sainsburys-scraper/lib/python3.9/site-packages/selenium/webdriver/remote/webelement.py:84\u001b[0m, in \u001b[0;36mWebElement.text\u001b[0;34m(self)\u001b[0m\n\u001b[1;32m     81\u001b[0m \u001b[38;5;129m@property\u001b[39m\n\u001b[1;32m     82\u001b[0m \u001b[38;5;28;01mdef\u001b[39;00m \u001b[38;5;21mtext\u001b[39m(\u001b[38;5;28mself\u001b[39m) \u001b[38;5;241m-\u001b[39m\u001b[38;5;241m>\u001b[39m \u001b[38;5;28mstr\u001b[39m:\n\u001b[1;32m     83\u001b[0m     \u001b[38;5;124;03m\"\"\"The text of the element.\"\"\"\u001b[39;00m\n\u001b[0;32m---> 84\u001b[0m     \u001b[38;5;28;01mreturn\u001b[39;00m \u001b[38;5;28;43mself\u001b[39;49m\u001b[38;5;241;43m.\u001b[39;49m\u001b[43m_execute\u001b[49m\u001b[43m(\u001b[49m\u001b[43mCommand\u001b[49m\u001b[38;5;241;43m.\u001b[39;49m\u001b[43mGET_ELEMENT_TEXT\u001b[49m\u001b[43m)\u001b[49m[\u001b[38;5;124m'\u001b[39m\u001b[38;5;124mvalue\u001b[39m\u001b[38;5;124m'\u001b[39m]\n",
      "File \u001b[0;32m~/miniconda3/envs/sainsburys-scraper/lib/python3.9/site-packages/selenium/webdriver/remote/webelement.py:396\u001b[0m, in \u001b[0;36mWebElement._execute\u001b[0;34m(self, command, params)\u001b[0m\n\u001b[1;32m    394\u001b[0m     params \u001b[38;5;241m=\u001b[39m {}\n\u001b[1;32m    395\u001b[0m params[\u001b[38;5;124m'\u001b[39m\u001b[38;5;124mid\u001b[39m\u001b[38;5;124m'\u001b[39m] \u001b[38;5;241m=\u001b[39m \u001b[38;5;28mself\u001b[39m\u001b[38;5;241m.\u001b[39m_id\n\u001b[0;32m--> 396\u001b[0m \u001b[38;5;28;01mreturn\u001b[39;00m \u001b[38;5;28;43mself\u001b[39;49m\u001b[38;5;241;43m.\u001b[39;49m\u001b[43m_parent\u001b[49m\u001b[38;5;241;43m.\u001b[39;49m\u001b[43mexecute\u001b[49m\u001b[43m(\u001b[49m\u001b[43mcommand\u001b[49m\u001b[43m,\u001b[49m\u001b[43m \u001b[49m\u001b[43mparams\u001b[49m\u001b[43m)\u001b[49m\n",
      "File \u001b[0;32m~/miniconda3/envs/sainsburys-scraper/lib/python3.9/site-packages/selenium/webdriver/remote/webdriver.py:435\u001b[0m, in \u001b[0;36mWebDriver.execute\u001b[0;34m(self, driver_command, params)\u001b[0m\n\u001b[1;32m    433\u001b[0m response \u001b[38;5;241m=\u001b[39m \u001b[38;5;28mself\u001b[39m\u001b[38;5;241m.\u001b[39mcommand_executor\u001b[38;5;241m.\u001b[39mexecute(driver_command, params)\n\u001b[1;32m    434\u001b[0m \u001b[38;5;28;01mif\u001b[39;00m response:\n\u001b[0;32m--> 435\u001b[0m     \u001b[38;5;28;43mself\u001b[39;49m\u001b[38;5;241;43m.\u001b[39;49m\u001b[43merror_handler\u001b[49m\u001b[38;5;241;43m.\u001b[39;49m\u001b[43mcheck_response\u001b[49m\u001b[43m(\u001b[49m\u001b[43mresponse\u001b[49m\u001b[43m)\u001b[49m\n\u001b[1;32m    436\u001b[0m     response[\u001b[38;5;124m'\u001b[39m\u001b[38;5;124mvalue\u001b[39m\u001b[38;5;124m'\u001b[39m] \u001b[38;5;241m=\u001b[39m \u001b[38;5;28mself\u001b[39m\u001b[38;5;241m.\u001b[39m_unwrap_value(\n\u001b[1;32m    437\u001b[0m         response\u001b[38;5;241m.\u001b[39mget(\u001b[38;5;124m'\u001b[39m\u001b[38;5;124mvalue\u001b[39m\u001b[38;5;124m'\u001b[39m, \u001b[38;5;28;01mNone\u001b[39;00m))\n\u001b[1;32m    438\u001b[0m     \u001b[38;5;28;01mreturn\u001b[39;00m response\n",
      "File \u001b[0;32m~/miniconda3/envs/sainsburys-scraper/lib/python3.9/site-packages/selenium/webdriver/remote/errorhandler.py:247\u001b[0m, in \u001b[0;36mErrorHandler.check_response\u001b[0;34m(self, response)\u001b[0m\n\u001b[1;32m    245\u001b[0m         alert_text \u001b[38;5;241m=\u001b[39m value[\u001b[38;5;124m'\u001b[39m\u001b[38;5;124malert\u001b[39m\u001b[38;5;124m'\u001b[39m]\u001b[38;5;241m.\u001b[39mget(\u001b[38;5;124m'\u001b[39m\u001b[38;5;124mtext\u001b[39m\u001b[38;5;124m'\u001b[39m)\n\u001b[1;32m    246\u001b[0m     \u001b[38;5;28;01mraise\u001b[39;00m exception_class(message, screen, stacktrace, alert_text)  \u001b[38;5;66;03m# type: ignore[call-arg]  # mypy is not smart enough here\u001b[39;00m\n\u001b[0;32m--> 247\u001b[0m \u001b[38;5;28;01mraise\u001b[39;00m exception_class(message, screen, stacktrace)\n",
      "\u001b[0;31mStaleElementReferenceException\u001b[0m: Message: The element reference of <li class=\"megaNavListItem\"> is stale; either the element is no longer attached to the DOM, it is not in the current frame context, or the document has been refreshed\nStacktrace:\nWebDriverError@chrome://remote/content/shared/webdriver/Errors.jsm:183:5\nStaleElementReferenceError@chrome://remote/content/shared/webdriver/Errors.jsm:464:5\nelement.resolveElement@chrome://remote/content/marionette/element.js:681:11\nevaluate.fromJSON@chrome://remote/content/marionette/evaluate.js:254:26\nevaluate.fromJSON@chrome://remote/content/marionette/evaluate.js:262:29\nreceiveMessage@chrome://remote/content/marionette/actors/MarionetteCommandsChild.jsm:79:29\n"
     ]
    }
   ],
   "source": [
    "for item in groceries_list_lvl1:\n",
    "    if item.text == \"Fresh fruit\":\n",
    "        a.move_to_element(item).perform()"
   ]
  },
  {
   "cell_type": "code",
   "execution_count": 854,
   "metadata": {},
   "outputs": [
    {
     "data": {
      "text/plain": [
       "[\"    Working to feed the nation|{'x': 54.0, 'y': 195.0, 'width': 223.0, 'height': 34.0})\",\n",
       " \"          Seasonal inspiration|{'x': 54.0, 'y': 229.0, 'width': 223.0, 'height': 34.0})\",\n",
       " \"                        Summer|{'x': 54.0, 'y': 263.0, 'width': 223.0, 'height': 34.0})\",\n",
       " \"         Dietary & world foods|{'x': 54.0, 'y': 297.0, 'width': 223.0, 'height': 34.0})\",\n",
       " \"                    Price Lock|{'x': 54.0, 'y': 331.0, 'width': 223.0, 'height': 34.0})\",\n",
       " \"            Fruit & vegetables|{'x': 54.0, 'y': 365.0, 'width': 223.0, 'height': 34.0})\",\n",
       " \"                   Meat & fish|{'x': 54.0, 'y': 399.0, 'width': 223.0, 'height': 34.0})\",\n",
       " \"         Dairy, eggs & chilled|{'x': 54.0, 'y': 433.0, 'width': 223.0, 'height': 34.0})\",\n",
       " \"                        Bakery|{'x': 54.0, 'y': 467.0, 'width': 223.0, 'height': 34.0})\",\n",
       " \"                        Frozen|{'x': 54.0, 'y': 501.0, 'width': 223.0, 'height': 34.0})\",\n",
       " \"                 Food cupboard|{'x': 54.0, 'y': 535.0, 'width': 223.0, 'height': 34.0})\",\n",
       " \"                        Drinks|{'x': 54.0, 'y': 569.0, 'width': 223.0, 'height': 34.0})\",\n",
       " \"                     Household|{'x': 54.0, 'y': 603.0, 'width': 223.0, 'height': 34.0})\",\n",
       " \"            Beauty & cosmetics|{'x': 54.0, 'y': 637.0, 'width': 223.0, 'height': 34.0})\",\n",
       " \"           Toiletries & health|{'x': 54.0, 'y': 671.0, 'width': 223.0, 'height': 34.0})\",\n",
       " \"            Homeware & outdoor|{'x': 54.0, 'y': 705.0, 'width': 223.0, 'height': 34.0})\",\n",
       " \"                Baby & toddler|{'x': 54.0, 'y': 739.0, 'width': 223.0, 'height': 34.0})\",\n",
       " \"                           Pet|{'x': 54.0, 'y': 773.0, 'width': 223.0, 'height': 34.0})\",\n",
       " \"           Features & articles|{'x': 54.0, 'y': 807.0, 'width': 223.0, 'height': 34.0})\",\n",
       " \"       Fruit & vegetables Home|{'x': 279.0, 'y': 195.0, 'width': 223.0, 'height': 34.0})\",\n",
       " \"               British produce|{'x': 279.0, 'y': 229.0, 'width': 223.0, 'height': 34.0})\",\n",
       " \"        Fruit & veg essentials|{'x': 279.0, 'y': 263.0, 'width': 223.0, 'height': 34.0})\",\n",
       " \"                   Fresh fruit|{'x': 279.0, 'y': 297.0, 'width': 223.0, 'height': 34.0})\",\n",
       " \"              Fresh vegetables|{'x': 279.0, 'y': 331.0, 'width': 223.0, 'height': 34.0})\",\n",
       " \"                   Fresh salad|{'x': 279.0, 'y': 365.0, 'width': 223.0, 'height': 34.0})\",\n",
       " \"   Prepared fruit, veg & salad|{'x': 279.0, 'y': 399.0, 'width': 223.0, 'height': 34.0})\",\n",
       " \"     Fresh herbs & ingredients|{'x': 279.0, 'y': 433.0, 'width': 223.0, 'height': 34.0})\",\n",
       " \"              Flowers & plants|{'x': 279.0, 'y': 467.0, 'width': 223.0, 'height': 34.0})\",\n",
       " \"    Organic fruit & vegetables|{'x': 279.0, 'y': 501.0, 'width': 223.0, 'height': 34.0})\",\n",
       " \"          Taste the Difference|{'x': 279.0, 'y': 535.0, 'width': 223.0, 'height': 34.0})\",\n",
       " \"                 Loose produce|{'x': 279.0, 'y': 569.0, 'width': 223.0, 'height': 34.0})\",\n",
       " \"     Frozen fruit & vegetables|{'x': 279.0, 'y': 603.0, 'width': 223.0, 'height': 34.0})\",\n",
       " \"               Eat the rainbow|{'x': 279.0, 'y': 637.0, 'width': 223.0, 'height': 34.0})\",\n",
       " \"                 Build a salad|{'x': 279.0, 'y': 671.0, 'width': 223.0, 'height': 34.0})\",\n",
       " \"               Make a smoothie|{'x': 279.0, 'y': 705.0, 'width': 223.0, 'height': 34.0})\",\n",
       " \"                Best in season|{'x': 279.0, 'y': 739.0, 'width': 223.0, 'height': 34.0})\",\n",
       " \"                Special offers|{'x': 279.0, 'y': 773.0, 'width': 223.0, 'height': 34.0})\",\n",
       " \"    See all Fruit & vegetables|{'x': 279.0, 'y': 807.0, 'width': 223.0, 'height': 34.0})\",\n",
       " \"                     All fruit|{'x': 504.0, 'y': 195.0, 'width': 223.0, 'height': 34.0})\",\n",
       " \"                  Ripe & ready|{'x': 504.0, 'y': 229.0, 'width': 223.0, 'height': 34.0})\",\n",
       " \"              Bananas & grapes|{'x': 504.0, 'y': 263.0, 'width': 223.0, 'height': 34.0})\",\n",
       " \"       Apples, pears & rhubarb|{'x': 504.0, 'y': 297.0, 'width': 223.0, 'height': 34.0})\",\n",
       " \"  Berries, cherries & currants|{'x': 504.0, 'y': 331.0, 'width': 223.0, 'height': 34.0})\",\n",
       " \"                 Citrus fruits|{'x': 504.0, 'y': 365.0, 'width': 223.0, 'height': 34.0})\",\n",
       " \"Nectarines, plums, apricots & peaches|{'x': 504.0, 'y': 399.0, 'width': 223.0, 'height': 55.0})\",\n",
       " \"              Kiwi & pineapple|{'x': 504.0, 'y': 454.0, 'width': 223.0, 'height': 34.0})\",\n",
       " \"                 Melon & mango|{'x': 504.0, 'y': 488.0, 'width': 223.0, 'height': 34.0})\",\n",
       " \"Papaya, pomegranate & exotic fruit|{'x': 504.0, 'y': 522.0, 'width': 223.0, 'height': 55.0})\",\n",
       " \"            Dates, figs & nuts|{'x': 504.0, 'y': 577.0, 'width': 223.0, 'height': 34.0})\",\n",
       " \"            Ready to eat fruit|{'x': 504.0, 'y': 611.0, 'width': 223.0, 'height': 34.0})\",\n",
       " \"                 Organic fruit|{'x': 504.0, 'y': 645.0, 'width': 223.0, 'height': 34.0})\",\n",
       " \"                Special offers|{'x': 504.0, 'y': 679.0, 'width': 223.0, 'height': 34.0})\",\n",
       " \"Don't miss\\nA taste of summer\\nShop now|{'x': 729.0, 'y': 195.0, 'width': 225.0, 'height': 413.0})\"]"
      ]
     },
     "execution_count": 854,
     "metadata": {},
     "output_type": "execute_result"
    }
   ],
   "source": [
    "groceries_list_lvl2 = [\n",
    "        item for item in\n",
    "        driver.find_elements(By.CLASS_NAME, \"megaNavListItem\")\n",
    "        if item.rect['x'] != 0 and item.rect['x'] != 0\n",
    "    ]\n",
    "[f\"{item.text:>30}|{item.rect})\" for item in groceries_list_lvl2]"
   ]
  },
  {
   "cell_type": "code",
   "execution_count": 1009,
   "metadata": {},
   "outputs": [
    {
     "name": "stdout",
     "output_type": "stream",
     "text": [
      "number of megaNavListItem: 29\n",
      "number of valid items: 32\n",
      "[ 0]Working to feed the nation | 32 categories visible\n",
      "[ 1]     Seasonal inspiration | 37 categories visible\n",
      "[ 2]                   Summer | 33 categories visible\n",
      "[ 3]    Dietary & world foods | 40 categories visible\n",
      "[ 4]               Price Lock | 32 categories visible\n",
      "[ 5]       Fruit & vegetables | 39 categories visible\n",
      "[ 6]              Meat & fish | 40 categories visible\n",
      "[ 7]    Dairy, eggs & chilled | 39 categories visible\n",
      "[ 8]                   Bakery | 39 categories visible\n",
      "[ 9]                   Frozen | 41 categories visible\n",
      "[10]            Food cupboard | 42 categories visible\n",
      "[11]                   Drinks | 40 categories visible\n",
      "[12]                Household | 40 categories visible\n",
      "[13]       Beauty & cosmetics | 38 categories visible\n",
      "[14]      Toiletries & health | 41 categories visible\n",
      "[15]       Homeware & outdoor | 35 categories visible\n",
      "[16]           Baby & toddler | 38 categories visible\n",
      "[17]                      Pet | 33 categories visible\n",
      "[18]      Features & articles | 24 categories visible\n",
      "[19]                    error | 0 categories visible\n",
      "[20]                    error | 0 categories visible\n",
      "[21]                    error | 0 categories visible\n",
      "[22]                    error | 0 categories visible\n",
      "[23]                    error | 0 categories visible\n",
      "[24]                    error | 0 categories visible\n",
      "[25]                    error | 0 categories visible\n",
      "[26]                    error | 0 categories visible\n",
      "[27]                    error | 0 categories visible\n",
      "[28]                    error | 0 categories visible\n",
      "[29]                    error | 0 categories visible\n",
      "[30]                    error | 0 categories visible\n",
      "[31]                    error | 0 categories visible\n"
     ]
    }
   ],
   "source": [
    "driver.execute_script(\"window.scrollTo(0,0)\")\n",
    "arrow = driver.find_element(By.LINK_TEXT, \"Groceries\")\n",
    "a.move_to_element(arrow).perform()\n",
    "sleep(0.25)\n",
    "print(\"number of megaNavListItem:\", len(megaNavListItem))\n",
    "\n",
    "groceries_list = [\n",
    "    item for item in\n",
    "    driver.find_elements(By.CLASS_NAME, \"megaNavListItem\")\n",
    "    if item.rect['x'] != 0 and item.rect['y'] != 0\n",
    "]\n",
    "print(\"number of valid items:\", len(groceries_list))\n",
    "\n",
    "height_offset = 50\n",
    "for i,gro_item in enumerate(groceries_list):\n",
    "    sleep(0.75)\n",
    "    try:\n",
    "        a.move_to_element(gro_item).perform()\n",
    "        groceries_list_lvl1 = [\n",
    "            item for item in\n",
    "            driver.find_elements(By.CLASS_NAME, \"megaNavListItem\")\n",
    "            if item.rect['x'] != 0 and item.rect['y'] != 0\n",
    "        ]\n",
    "        print(f\"[{i:2}]{gro_item.text:>25} | {len(groceries_list_lvl1)} categories visible\")\n",
    "    except:\n",
    "        sleep(0.5)\n",
    "        # driver.execute_script(\"arguments[0].scrollIntoView(true);\", gro_item)\n",
    "        driver.execute_script(f\"window.scrollTo(0,{height_offset})\")\n",
    "        height_offset += 50\n",
    "        sleep(0.5)\n",
    "        groceries_list_lvl1 = [\n",
    "            item for item in\n",
    "            driver.find_elements(By.CLASS_NAME, \"megaNavListItem\")\n",
    "            if item.rect['x'] != 0 and item.rect['y'] != 0\n",
    "        ]\n",
    "        \n",
    "        try:\n",
    "            cat_name = gro_item.text\n",
    "        except:\n",
    "            cat_name = 'error'\n",
    "        print(f\"[{i:2}]{cat_name:>25} | {len(groceries_list_lvl1)} categories visible\")\n",
    "    "
   ]
  },
  {
   "cell_type": "code",
   "execution_count": 1026,
   "metadata": {
    "tags": []
   },
   "outputs": [
    {
     "name": "stdout",
     "output_type": "stream",
     "text": [
      "number of megaNavListItem found: 24\n",
      "number of valid megaNavListItem: 24\n",
      "---------------------------------------0----------------------------------------\n",
      "                 New categories for Working to feed the nation                  \n",
      "set()\n",
      "---------------------------------------1----------------------------------------\n",
      "                    New categories for Seasonal inspiration                     \n",
      "{'Gifting', 'Special offers', 'Top rated', 'Seasonal inspiration Home', 'First shop essentials', 'Eid Mubarak', \"Sainsbury's introduces\", 'Pub food & drink', 'Aldi Price Match', 'Pride', 'New', 'Cosy night in', 'Inspired to cook', 'Bigger packs', 'See all Seasonal inspiration', 'About Nectar', 'Coffee shop'}\n",
      "---------------------------------------2----------------------------------------\n",
      "                           New categories for Summer                            \n",
      "{'See all Summer', '£5 Burger & drink meal deal\\nShop now', 'Special offers', 'Suncare & beauty', 'Home & outdoor', 'All Summer', 'A taste of summer', 'Salads & sides', 'Picnic', 'Summer edition', 'Summer Home', 'Ice cream & desserts', 'BBQ'}\n",
      "---------------------------------------3----------------------------------------\n",
      "                    New categories for Dietary & world foods                    \n",
      "{'Plant based drinks', 'Weight management', 'See all Dietary & world foods', '200 calories or less snacking', 'Vegetarian & plant based', 'Free From', 'Helping everyone eat better', 'Special offers', 'Eco friendly', 'Have you tried?\\nYour breakfast favourites\\nShop now', 'Discover', 'Gut loving food', 'Organic', 'Dietary & world foods Home', 'World foods', 'Low & no alcohol', 'Natural beauty', 'Vitamins & supplements', 'Vegan', 'Sports nutrition', 'Sustainable seafood'}\n",
      "---------------------------------------4----------------------------------------\n",
      "                         New categories for Price Lock                          \n",
      "{\"Don't miss\\nPrice Lock\\nShop now\", 'All Price Lock', 'Fridge & freezer', 'Beer, wine & spirits', 'Price Lock Home', 'See all Price Lock'}\n",
      "---------------------------------------5----------------------------------------\n",
      "                     New categories for Fruit & vegetables                      \n",
      "{'Prepared fruit, veg & salad', 'Fresh vegetables', 'Fresh fruit', 'Taste the Difference', 'Fresh herbs & ingredients', 'Fruit & veg essentials', 'Special offers', 'Frozen fruit & vegetables', 'Fresh salad', \"Don't miss\\nPerfect for BBQ's\\nShop now\", 'Fruit & vegetables Home', 'See all Fruit & vegetables', 'Best in season', 'Organic fruit & vegetables', 'Build a salad', 'Make a smoothie', 'Eat the rainbow', 'British produce', 'Loose produce', 'Flowers & plants'}\n",
      "---------------------------------------6----------------------------------------\n",
      "                         New categories for Meat & fish                         \n",
      "{'Have you tried?\\nPerfect for a picnic\\nShop now', 'BBQ & Tapas', 'Special offers (valid for deliveries until 19th July)', 'Fish & seafood', 'See all Meat & fish', 'Mince', 'Bacon & sausages', 'Meat & fish essentials', 'Beef', 'Just Cook & Slow Cooked', 'Discover', 'Organic', 'Chicken', 'Yorkshire puddings & roast accompaniments', 'Meat & fish Home', 'Pork & gammon', 'Lamb', 'Ham, cooked meats & pâté', 'Turkey', 'Meat free', 'Duck, game & venison'}\n",
      "---------------------------------------7----------------------------------------\n",
      "                    New categories for Dairy, eggs & chilled                    \n",
      "{'Cooked meats, olives & dips', 'New', 'Desserts', 'World foods, kosher & halal', 'Special offers', 'Fruit juice & drinks', 'Savoury snacks', 'Shop by range', 'Vegetarian, vegan & dairy free', 'Discover', 'Dairy & eggs', 'Ready meals', 'Fresh soup', 'Sandwiches & food to go', 'Dairy & chilled essentials', 'Pizza, pasta & garlic bread', 'Pies, pasties & quiche', 'See all Dairy, eggs & chilled', 'Dairy, eggs & chilled Home', 'Fridge fillers\\nDairy & chilled essentials\\nShop now'}\n",
      "---------------------------------------8----------------------------------------\n",
      "                           New categories for Bakery                            \n",
      "{'Scones, fruited & buns', 'New', 'Bread', 'Bread rolls & bagels', 'Croissants & breakfast bakery', 'Special offers', 'Doughnuts, cookies & muffins', 'Birthday & party cakes', 'Cakes & tarts', 'Discover', 'Bakery essentials', 'From our in store bakery', 'Freefrom bread & cakes', 'Naans & meal sides', 'Have you tried?\\nFreshly baked\\nShop now', 'Bakery Home', 'See all Bakery', 'Wraps, thins & pittas', 'Taste The Difference'}\n",
      "---------------------------------------9----------------------------------------\n",
      "                           New categories for Frozen                            \n",
      "{'Chips, potatoes & rice', 'New', 'Meat & poultry', 'Desserts & pastry', 'Fish & seafood', 'Special offers', 'See all Frozen', 'Discover', 'Yorkshire puddings & roast accompaniments', 'Ice cream & ice', 'Ready meals, pies & party food', 'World foods', 'Frozen Home', 'Frozen essentials', \"Don't miss\\nFrozen offers\\nShop now\", 'Meal ideas', 'Vegetarian & meat free', 'Fruit, vegetables & herbs', 'Vegan', 'Freefrom', 'Pizza & garlic bread'}\n",
      "---------------------------------------10---------------------------------------\n",
      "                        New categories for Food cupboard                        \n",
      "{'Sugar & home baking', 'Crisps, nuts & snacking fruit', 'World Foods', 'Cooking sauces & meal kits', 'Have you tried?\\nLindt chocolate bars\\nShop now', 'Fruit & desserts', 'Rice, pasta & noodles', 'Stock up the cupboards', 'Special offers', 'Jams, honey & spreads', 'Biscuits & crackers', 'Canned, tinned & packaged foods', 'Cereals', 'Tea, coffee & hot drinks', 'Discover', 'Cooking ingredients & oils', 'Confectionery', 'Food cupboard essentials', 'See all Food cupboard', 'Food cupboard Home', 'Table sauces, dressings & condiments', 'Freefrom'}\n",
      "---------------------------------------11---------------------------------------\n",
      "                           New categories for Drinks                            \n",
      "{'Fizzy drinks', 'Drinks Home', 'Squash & cordials', 'Juice & smoothies', 'Special offers', 'See all Drinks', 'Have you tried?\\nPink drinks\\nShop now', 'Wine', 'Champagne & sparkling wine', 'Sports, energy & wellbeing', 'Milk & milk drinks', 'Tea, coffee & hot drinks', 'Discover', 'Spirits & liqueurs', 'Kids & lunchbox', 'Low & no alcohol', 'Water', 'Taste the difference', 'Beer & cider', 'Mixers & adult soft drinks'}\n",
      "---------------------------------------12---------------------------------------\n",
      "                          New categories for Household                          \n",
      "{'Top rated products', 'Anti-bacterial', 'Household bigger packs', 'New', 'Special offers', 'Summer clean', 'See all Household', 'Cleaning products', 'Party tableware', 'Eco friendly', 'Foil, food bags & storage', \"Don't miss\\nEasy-breezy summer cleaning\\nShop now\", 'Discover', 'Toilet roll, kitchen roll & tissues', 'Household Home', 'Air fresheners', 'Newsagent & tobacconist', 'Household essentials', 'Laundry', 'Dishwasher & washing up'}\n",
      "---------------------------------------13---------------------------------------\n",
      "                     New categories for Beauty & cosmetics                      \n",
      "{'Beauty tools & accessories', 'Make up', 'New', 'Facial skincare', 'Beauty at home', 'Bath & body', 'Beauty & cosmetics Home', 'Special offers', 'Fragrances', 'See all Beauty & cosmetics', 'Sun & tan', 'Shop by brand', 'Hair care', 'Beauty Awards', 'Our beauty edit', 'Our beauty edit\\nForecast glowing for days\\nShop now', 'Beauty gifts', 'Conscious Beauty', \"Men's grooming\"}\n",
      "---------------------------------------14---------------------------------------\n",
      "                     New categories for Toiletries & health                     \n",
      "{'Toiletries & health Home', 'New', 'Have you tried?\\nFemale grooming\\nShop now', 'Beauty gifting', 'Special offers', 'Shaving & hair removal', 'Family planning', 'Toothpaste & mouthwash', 'Feminine care', 'Toiletries & health essentials', 'Deodorants & body sprays', 'Face & body skincare', 'Haircare', 'See all Toiletries & health', 'Medicines & healthcare', 'Bladder weakness', 'Suncare & travel', \"Men's toiletries\", 'Soap, shower & bath', 'Sports nutrition & diet', 'Vitamins'}\n",
      "---------------------------------------15---------------------------------------\n",
      "                     New categories for Homeware & outdoor                      \n",
      "{'Garden & outdoor', 'Special offers', 'Fresh flowers & plants', 'See all Homeware & outdoor', 'Sports & leisure', 'Cards and Gifting', 'Party tableware', 'Home & Office', 'New', 'Batteries', 'Newsagent & tobacconist', 'Kitchen & dining', 'Have you tried?\\nOutdoor & garden\\nShop now', 'Habitat', 'Toys', 'Homeware & outdoor Home'}\n",
      "---------------------------------------16---------------------------------------\n",
      "                       New categories for Baby & toddler                        \n",
      "{'Bottles & feeding accessories', 'Big packs', 'Special offers', 'Baby meals', 'Discover', 'Mum & mum to be', 'Baby & toddler Home', 'Baby laundry', 'Toiletries & healthcare', 'Snacks & rusks', 'Wipes', 'Baby milk & drinks', 'Little Ones', 'Accessories', 'Nappies & pants', 'See all Baby & toddler', 'Toys', 'Have you tried?\\nLittle Ones\\nShop now'}\n",
      "---------------------------------------17---------------------------------------\n",
      "                             New categories for Pet                             \n",
      "{'Pet toys', 'Special offers', 'Pet Home', 'Other animals', 'Discover', 'Have you tried?\\nMinimal mess and fuss\\nShop now', 'Pet bigger packs', 'Dog & Puppy', 'Cat & Kitten', 'New', 'Spectrum IAMS', 'Pet clean up', 'See all Pet'}\n",
      "---------------------------------------18---------------------------------------\n",
      "                     New categories for Features & articles                     \n",
      "set()\n"
     ]
    }
   ],
   "source": [
    "driver.execute_script(\"window.scrollTo(0,0)\")\n",
    "arrow = driver.find_element(By.LINK_TEXT, \"Groceries\")\n",
    "a.move_to_element(arrow).perform()\n",
    "sleep(0.25)\n",
    "\n",
    "groceries_list = [\n",
    "    item for item in\n",
    "    driver.find_elements(By.CLASS_NAME, \"megaNavListItem\")\n",
    "    if item.rect['x'] != 0 and item.rect['y'] != 0\n",
    "]\n",
    "print(\"number of megaNavListItem found:\", len(groceries_list))\n",
    "\n",
    "groceries_list_valid = []\n",
    "category_names = []\n",
    "for gro_item in groceries_list:\n",
    "    try:\n",
    "        category_names.append(gro_item.text)\n",
    "        groceries_list_valid.append(gro_item)\n",
    "    except:\n",
    "        pass\n",
    "print(\"number of valid megaNavListItem:\", len(groceries_list_valid))\n",
    "\n",
    "current_categories = len(groceries_list_valid)\n",
    "height_offset = 50\n",
    "for i,gro_item in enumerate(groceries_list_valid):\n",
    "    sleep(0.75)\n",
    "    try:\n",
    "        a.move_to_element(gro_item).perform()\n",
    "        groceries_list_sub = [\n",
    "            item for item in\n",
    "            driver.find_elements(By.CLASS_NAME, \"megaNavListItem\")\n",
    "            if item.rect['x'] != 0 and item.rect['y'] != 0\n",
    "        ]\n",
    "    except:\n",
    "        sleep(0.5)\n",
    "        # driver.execute_script(\"arguments[0].scrollIntoView(true);\", gro_item)\n",
    "        driver.execute_script(f\"window.scrollTo(0,{height_offset})\")\n",
    "        try:\n",
    "            a.move_to_element(gro_item).perform()\n",
    "        except:\n",
    "            pass\n",
    "        height_offset += 50\n",
    "        sleep(0.5)\n",
    "        groceries_list_sub = [\n",
    "            item for item in\n",
    "            driver.find_elements(By.CLASS_NAME, \"megaNavListItem\")\n",
    "            if item.rect['x'] != 0 and item.rect['y'] != 0\n",
    "        ]\n",
    "    try:\n",
    "        cat_name = gro_item.text\n",
    "    except:\n",
    "        continue\n",
    "    sub_categories_names = []\n",
    "    for gro_sub_item in groceries_list_sub:\n",
    "        try:\n",
    "            sub_categories_names.append(gro_sub_item.text)\n",
    "        except:\n",
    "            pass\n",
    "    new_categories = set(sub_categories_names) - set(category_names)\n",
    "    print(f\"{i:-^80}\")\n",
    "    print(f\"{f'New categories for {cat_name}':^80}\")\n",
    "    print(new_categories)\n",
    "    # print(f\"[{i:2}]{cat_name:>25} | {len(groceries_list_sub)} categories visible\")\n",
    "    "
   ]
  },
  {
   "cell_type": "markdown",
   "metadata": {},
   "source": [
    "### As functions"
   ]
  },
  {
   "cell_type": "code",
   "execution_count": 1062,
   "metadata": {},
   "outputs": [],
   "source": [
    "def get_valid_category_names(categories_list):\n",
    "    categories_list_valid = []\n",
    "    category_names = []\n",
    "    for gro_item in categories_list:\n",
    "        try:\n",
    "            cat_name = gro_item.text # this usually triggers an error\n",
    "        except:\n",
    "            continue\n",
    "        category_names.append(cat_name)\n",
    "        categories_list_valid.append(gro_item)\n",
    "    return categories_list_valid, category_names\n",
    "    \n",
    "def find_mega_na_list(driver):\n",
    "    categories_list = [\n",
    "        item for item in driver.find_elements(By.CLASS_NAME, \"megaNavListItem\")\n",
    "        if item.rect['x'] != 0 and item.rect['y'] != 0\n",
    "    ]\n",
    "    return categories_list\n",
    "    \n",
    "def fetch_meganavlist(driver, categories_list, height_offset=0):\n",
    "    categories_list_valid, category_names = get_valid_category_names(categories_list)\n",
    "    n_current_cats = len(categories_list_valid)\n",
    "    print(\"n_current_cats\", n_current_cats)\n",
    "    directory_tree = {}\n",
    "    for i,gro_item in enumerate(categories_list_valid):\n",
    "        sleep(0.75)\n",
    "        try:\n",
    "            a.move_to_element(gro_item).perform()\n",
    "            categories_list_sub = find_mega_na_list(driver)\n",
    "        except:\n",
    "            sleep(0.5)\n",
    "            driver.execute_script(f\"window.scrollTo(0,{height_offset})\")\n",
    "            height_offset += 50\n",
    "            sleep(0.5)\n",
    "            categories_list_sub = find_mega_na_list(driver)\n",
    "        \n",
    "        (categories_list_sub_valid, \n",
    "                 category_names_sub) = get_valid_category_names(categories_list_sub)\n",
    "        try:\n",
    "            print(\n",
    "                f\"[{i:2}]{gro_item.text:>30} | {len(categories_list_sub)} categories visible \"\n",
    "                f\"({len(categories_list_sub_valid)} of which are valid)\"\n",
    "            )\n",
    "        except:\n",
    "            print(\"skippinggg\")\n",
    "            continue\n",
    "        \n",
    "        # Case 1: new categories appear when hovering: depth first search\n",
    "        if len(categories_list_sub_valid) > n_current_cats:\n",
    "            new_categories = set(category_names_sub) - set(category_names)\n",
    "            # new_categories_items = [\n",
    "            #     categ_item for categ_name, categ_item in\n",
    "            #     zip(category_names_sub, categories_list_sub_valid)\n",
    "            #     if categ_name in new_categories\n",
    "            # ]\n",
    "            print(f\"----> `{gro_item.text}` has more items than baseline, going one level down in recursion.\")\n",
    "            # print(f\"----> There are {len(new_categories)} new category names and {len(new_categories_items)} items\")\n",
    "            print(f\"----> There are {len(new_categories)} new categories\")\n",
    "            sleep(0.5)\n",
    "            sub_directory_tree = fetch_meganavlist(driver, categories_list_sub_valid, height_offset)\n",
    "            directory_tree.update(sub_directory_tree)\n",
    "        # Case 2: No new categories appear: node encountered (base case)\n",
    "        else:\n",
    "            directory_tree[gro_item.text] = category_names_sub \n",
    "    return directory_tree\n",
    "\n",
    "def navigate_categories(driver):\n",
    "    driver.execute_script(\"window.scrollTo(0,0)\")\n",
    "    arrow = driver.find_element(By.LINK_TEXT, \"Groceries\")\n",
    "    a.move_to_element(arrow).perform()\n",
    "    sleep(0.25)\n",
    "    categories_list = [\n",
    "        item for item in\n",
    "        driver.find_elements(By.CLASS_NAME, \"megaNavListItem\")\n",
    "        if item.rect['x'] != 0 and item.rect['y'] != 0\n",
    "    ]\n",
    "    print(\"Number of megaNavListItem found:\", len(categories_list))\n",
    "    height_offset=0\n",
    "    directory_tree = fetch_meganavlist(driver, categories_list, height_offset)\n",
    "    return directory_tree\n"
   ]
  },
  {
   "cell_type": "code",
   "execution_count": 1063,
   "metadata": {
    "tags": []
   },
   "outputs": [
    {
     "name": "stdout",
     "output_type": "stream",
     "text": [
      "Number of megaNavListItem found: 37\n",
      "n_current_cats 37\n",
      "[ 0]    Working to feed the nation | 37 categories visible (37 of which are valid)\n",
      "[ 1]          Seasonal inspiration | 37 categories visible (37 of which are valid)\n",
      "[ 2]                        Summer | 33 categories visible (33 of which are valid)\n",
      "[ 3]         Dietary & world foods | 40 categories visible (40 of which are valid)\n",
      "----> `Dietary & world foods` has more items than baseline, going one level down in recursion.\n",
      "----> There are 20 new categories\n",
      "n_current_cats 40\n",
      "[ 0]    Working to feed the nation | 20 categories visible (20 of which are valid)\n",
      "[ 1]          Seasonal inspiration | 37 categories visible (37 of which are valid)\n",
      "[ 2]                        Summer | 33 categories visible (33 of which are valid)\n",
      "[ 3]         Dietary & world foods | 40 categories visible (40 of which are valid)\n",
      "[ 4]                    Price Lock | 32 categories visible (32 of which are valid)\n",
      "[ 5]            Fruit & vegetables | 39 categories visible (39 of which are valid)\n",
      "[ 6]                   Meat & fish | 40 categories visible (40 of which are valid)\n",
      "[ 7]         Dairy, eggs & chilled | 39 categories visible (39 of which are valid)\n",
      "[ 8]                        Bakery | 39 categories visible (39 of which are valid)\n",
      "[ 9]                        Frozen | 41 categories visible (41 of which are valid)\n",
      "----> `Frozen` has more items than baseline, going one level down in recursion.\n",
      "----> There are 17 new categories\n",
      "n_current_cats 41\n",
      "[ 0]    Working to feed the nation | 20 categories visible (20 of which are valid)\n",
      "[ 1]          Seasonal inspiration | 37 categories visible (37 of which are valid)\n",
      "[ 2]                        Summer | 33 categories visible (33 of which are valid)\n",
      "[ 3]         Dietary & world foods | 40 categories visible (40 of which are valid)\n",
      "[ 4]                    Price Lock | 32 categories visible (32 of which are valid)\n",
      "[ 5]            Fruit & vegetables | 39 categories visible (39 of which are valid)\n",
      "[ 6]                   Meat & fish | 40 categories visible (40 of which are valid)\n",
      "[ 7]         Dairy, eggs & chilled | 39 categories visible (39 of which are valid)\n",
      "[ 8]                        Bakery | 39 categories visible (39 of which are valid)\n",
      "[ 9]                        Frozen | 41 categories visible (41 of which are valid)\n",
      "[10]                 Food cupboard | 42 categories visible (42 of which are valid)\n",
      "----> `Food cupboard` has more items than baseline, going one level down in recursion.\n",
      "----> There are 19 new categories\n",
      "n_current_cats 42\n",
      "[ 0]    Working to feed the nation | 20 categories visible (20 of which are valid)\n",
      "[ 1]          Seasonal inspiration | 37 categories visible (37 of which are valid)\n",
      "[ 2]                        Summer | 33 categories visible (33 of which are valid)\n",
      "[ 3]         Dietary & world foods | 40 categories visible (40 of which are valid)\n",
      "[ 4]                    Price Lock | 32 categories visible (32 of which are valid)\n",
      "[ 5]            Fruit & vegetables | 39 categories visible (39 of which are valid)\n",
      "[ 6]                   Meat & fish | 40 categories visible (40 of which are valid)\n",
      "[ 7]         Dairy, eggs & chilled | 39 categories visible (39 of which are valid)\n",
      "[ 8]                        Bakery | 39 categories visible (39 of which are valid)\n",
      "[ 9]                        Frozen | 41 categories visible (41 of which are valid)\n",
      "[10]                 Food cupboard | 42 categories visible (42 of which are valid)\n",
      "[11]                        Drinks | 40 categories visible (40 of which are valid)\n",
      "[12]                     Household | 40 categories visible (40 of which are valid)\n",
      "[13]            Beauty & cosmetics | 38 categories visible (38 of which are valid)\n",
      "[14]           Toiletries & health | 41 categories visible (41 of which are valid)\n",
      "[15]            Homeware & outdoor | 41 categories visible (41 of which are valid)\n",
      "[16]                Baby & toddler | 35 categories visible (35 of which are valid)\n",
      "[17]                           Pet | 33 categories visible (33 of which are valid)\n",
      "[18]           Features & articles | 24 categories visible (24 of which are valid)\n",
      "skippinggg\n",
      "skippinggg\n",
      "skippinggg\n",
      "skippinggg\n",
      "skippinggg\n",
      "skippinggg\n",
      "skippinggg\n",
      "skippinggg\n",
      "skippinggg\n",
      "skippinggg\n",
      "skippinggg\n",
      "skippinggg\n",
      "skippinggg\n",
      "skippinggg\n",
      "skippinggg\n",
      "skippinggg\n",
      "skippinggg\n",
      "skippinggg\n",
      "skippinggg\n",
      "skippinggg\n",
      "skippinggg\n",
      "skippinggg\n",
      "skippinggg\n",
      "[11]                               | 0 categories visible (0 of which are valid)\n",
      "[12]                               | 0 categories visible (0 of which are valid)\n",
      "[13]                               | 0 categories visible (0 of which are valid)\n",
      "[14]                               | 0 categories visible (0 of which are valid)\n",
      "[15]                               | 0 categories visible (0 of which are valid)\n",
      "[16]                               | 0 categories visible (0 of which are valid)\n",
      "[17]                               | 0 categories visible (0 of which are valid)\n",
      "[18]                               | 0 categories visible (0 of which are valid)\n",
      "skippinggg\n",
      "skippinggg\n",
      "skippinggg\n",
      "skippinggg\n",
      "skippinggg\n",
      "skippinggg\n",
      "skippinggg\n",
      "skippinggg\n",
      "skippinggg\n",
      "skippinggg\n",
      "skippinggg\n",
      "skippinggg\n",
      "skippinggg\n",
      "skippinggg\n",
      "skippinggg\n",
      "skippinggg\n",
      "skippinggg\n",
      "skippinggg\n",
      "skippinggg\n",
      "skippinggg\n",
      "skippinggg\n",
      "skippinggg\n",
      "[10]                               | 0 categories visible (0 of which are valid)\n",
      "[11]                               | 0 categories visible (0 of which are valid)\n",
      "[12]                               | 0 categories visible (0 of which are valid)\n",
      "[13]                               | 0 categories visible (0 of which are valid)\n",
      "[14]                               | 0 categories visible (0 of which are valid)\n",
      "[15]                               | 0 categories visible (0 of which are valid)\n",
      "[16]                               | 0 categories visible (0 of which are valid)\n",
      "[17]                               | 0 categories visible (0 of which are valid)\n",
      "[18]                               | 0 categories visible (0 of which are valid)\n",
      "skippinggg\n",
      "skippinggg\n",
      "skippinggg\n",
      "skippinggg\n",
      "skippinggg\n",
      "skippinggg\n",
      "skippinggg\n",
      "skippinggg\n",
      "skippinggg\n",
      "skippinggg\n",
      "skippinggg\n",
      "skippinggg\n",
      "skippinggg\n",
      "skippinggg\n",
      "skippinggg\n",
      "skippinggg\n",
      "skippinggg\n",
      "skippinggg\n",
      "skippinggg\n",
      "skippinggg\n",
      "skippinggg\n",
      "[ 4]                               | 0 categories visible (0 of which are valid)\n",
      "[ 5]                               | 0 categories visible (0 of which are valid)\n",
      "[ 6]                               | 0 categories visible (0 of which are valid)\n",
      "[ 7]                               | 0 categories visible (0 of which are valid)\n",
      "[ 8]                               | 0 categories visible (0 of which are valid)\n",
      "[ 9]                               | 0 categories visible (0 of which are valid)\n",
      "[10]                               | 0 categories visible (0 of which are valid)\n",
      "[11]                               | 0 categories visible (0 of which are valid)\n",
      "[12]                               | 0 categories visible (0 of which are valid)\n",
      "[13]                               | 0 categories visible (0 of which are valid)\n",
      "[14]                               | 0 categories visible (0 of which are valid)\n",
      "[15]                               | 0 categories visible (0 of which are valid)\n",
      "[16]                               | 0 categories visible (0 of which are valid)\n",
      "[17]                               | 0 categories visible (0 of which are valid)\n",
      "[18]                               | 0 categories visible (0 of which are valid)\n",
      "skippinggg\n",
      "skippinggg\n",
      "skippinggg\n",
      "skippinggg\n",
      "skippinggg\n",
      "skippinggg\n",
      "skippinggg\n",
      "skippinggg\n",
      "skippinggg\n",
      "skippinggg\n",
      "skippinggg\n",
      "skippinggg\n",
      "skippinggg\n",
      "skippinggg\n",
      "skippinggg\n",
      "skippinggg\n",
      "skippinggg\n",
      "skippinggg\n"
     ]
    }
   ],
   "source": [
    "directory_tree = navigate_categories(driver)"
   ]
  },
  {
   "cell_type": "code",
   "execution_count": 1066,
   "metadata": {
    "tags": []
   },
   "outputs": [],
   "source": [
    "# directory_tree"
   ]
  },
  {
   "cell_type": "code",
   "execution_count": 1074,
   "metadata": {},
   "outputs": [],
   "source": [
    "new_dir = {}\n",
    "lvl0 = directory_tree.keys()\n",
    "for k,v in directory_tree.items():\n",
    "    non_redundant_keys = list(set(v) - set(lvl0))\n",
    "    new_dir[k] = {key:[key] for key in non_redundant_keys}"
   ]
  },
  {
   "cell_type": "code",
   "execution_count": 1075,
   "metadata": {},
   "outputs": [
    {
     "data": {
      "text/plain": [
       "19842"
      ]
     },
     "execution_count": 1075,
     "metadata": {},
     "output_type": "execute_result"
    }
   ],
   "source": [
    "Path(\"directory-tree-0.json\").write_text(\n",
    "    json.dumps(new_dir, indent=2)\n",
    ")"
   ]
  },
  {
   "cell_type": "markdown",
   "metadata": {},
   "source": [
    " --- "
   ]
  },
  {
   "cell_type": "code",
   "execution_count": 1024,
   "metadata": {},
   "outputs": [
    {
     "name": "stdout",
     "output_type": "stream",
     "text": [
      "number of megaNavListItem found: 24\n",
      "number of valid megaNavListItem: 24\n"
     ]
    }
   ],
   "source": [
    "driver.execute_script(\"window.scrollTo(0,0)\")\n",
    "arrow = driver.find_element(By.LINK_TEXT, \"Groceries\")\n",
    "a.move_to_element(arrow).perform()\n",
    "sleep(0.25)\n",
    "\n",
    "groceries_list = [\n",
    "    item for item in\n",
    "    driver.find_elements(By.CLASS_NAME, \"megaNavListItem\")\n",
    "    if item.rect['x'] != 0 and item.rect['y'] != 0\n",
    "]\n",
    "print(\"number of megaNavListItem found:\", len(groceries_list))\n",
    "\n",
    "groceries_list_valid = []\n",
    "category_names = []\n",
    "for gro_item in groceries_list:\n",
    "    try:\n",
    "        category_names.append(gro_item.text)\n",
    "        groceries_list_valid.append(gro_item)\n",
    "    except:\n",
    "        pass\n",
    "print(\"number of valid megaNavListItem:\", len(groceries_list_valid))\n"
   ]
  },
  {
   "cell_type": "markdown",
   "metadata": {
    "jp-MarkdownHeadingCollapsed": true,
    "tags": []
   },
   "source": [
    "## Get HTML?"
   ]
  },
  {
   "cell_type": "code",
   "execution_count": 975,
   "metadata": {},
   "outputs": [
    {
     "data": {
      "text/plain": [
       "'https://www.sainsburys.co.uk/shop/gb/groceries/fruit-veg/british-produce?fromMegaNav=1#langId=44&storeId=10151&catalogId=10241&categoryId=484866&parent_category_rn=12518&top_category=12518&pageSize=60&orderBy=SEQUENCING%7CFAVOURITES_ONLY%7CTOP_SELLERS&searchTerm=&beginIndex=0&hideFilters=true'"
      ]
     },
     "execution_count": 975,
     "metadata": {},
     "output_type": "execute_result"
    }
   ],
   "source": [
    "driver.current_url"
   ]
  },
  {
   "cell_type": "code",
   "execution_count": 978,
   "metadata": {},
   "outputs": [
    {
     "name": "stdout",
     "output_type": "stream",
     "text": [
      "1817174 <class 'str'>\n"
     ]
    }
   ],
   "source": [
    "x = driver.page_source\n",
    "print(len(x), type(x))\n",
    "del x"
   ]
  },
  {
   "cell_type": "code",
   "execution_count": 979,
   "metadata": {},
   "outputs": [],
   "source": [
    "selenium_source_soup = BeautifulSoup(driver.page_source)"
   ]
  },
  {
   "cell_type": "code",
   "execution_count": 980,
   "metadata": {},
   "outputs": [
    {
     "data": {
      "text/plain": [
       "(32, 5)"
      ]
     },
     "execution_count": 980,
     "metadata": {},
     "output_type": "execute_result"
    }
   ],
   "source": [
    "selenium_items = utils.scrape_items(selenium_source_soup)\n",
    "selenium_items.shape"
   ]
  },
  {
   "cell_type": "markdown",
   "metadata": {
    "jp-MarkdownHeadingCollapsed": true,
    "tags": []
   },
   "source": [
    "## use without opening a window?\n",
    "\n",
    "Turns out it's called `headless mode`"
   ]
  },
  {
   "cell_type": "code",
   "execution_count": 627,
   "metadata": {},
   "outputs": [],
   "source": [
    "opts = webdriver.FirefoxOptions()\n",
    "opts.headless = True\n",
    "firefox = webdriver.Firefox(options=opts)"
   ]
  },
  {
   "cell_type": "code",
   "execution_count": 629,
   "metadata": {},
   "outputs": [
    {
     "data": {
      "text/plain": [
       "\"Fruit & veg essentials | Sainsbury's\""
      ]
     },
     "execution_count": 629,
     "metadata": {},
     "output_type": "execute_result"
    }
   ],
   "source": [
    "firefox.get(layer2)\n",
    "firefox.title"
   ]
  },
  {
   "cell_type": "code",
   "execution_count": 631,
   "metadata": {},
   "outputs": [
    {
     "data": {
      "text/plain": [
       "60"
      ]
     },
     "execution_count": 631,
     "metadata": {},
     "output_type": "execute_result"
    }
   ],
   "source": [
    "len(firefox.find_elements(By.CLASS_NAME, \"gridItem\"))"
   ]
  },
  {
   "cell_type": "code",
   "execution_count": 639,
   "metadata": {},
   "outputs": [],
   "source": [
    "# arrow.click() # click is not what we want, we want hover"
   ]
  },
  {
   "cell_type": "code",
   "execution_count": 640,
   "metadata": {},
   "outputs": [],
   "source": [
    "firefox.close()"
   ]
  },
  {
   "cell_type": "markdown",
   "metadata": {
    "jp-MarkdownHeadingCollapsed": true,
    "tags": []
   },
   "source": [
    "## Navigate directory tree"
   ]
  },
  {
   "cell_type": "code",
   "execution_count": 992,
   "metadata": {},
   "outputs": [],
   "source": [
    "dirtree = {\n",
    "    'fruit-veggies':[\n",
    "        'fresh salad',\n",
    "        'fresh etc'\n",
    "    ],\n",
    "    'meat': [\n",
    "        'vegan', \n",
    "        {\n",
    "            'bbq':['beef', 'chicken', 'pork']\n",
    "        }\n",
    "    ]\n",
    "}"
   ]
  },
  {
   "cell_type": "code",
   "execution_count": 1005,
   "metadata": {},
   "outputs": [],
   "source": [
    "def initialise_checker(dirtree):\n",
    "    \"\"\"Given a nested dict of mixed lists and strings,\n",
    "    return a dictionary where the keys are the nodes \n",
    "    and all values are set to False.\"\"\"\n",
    "    status_dict = {}\n",
    "    if isinstance(dirtree, dict):\n",
    "        for key,value in dirtree.items():\n",
    "            status_dict.update( initialise_checker(value) )\n",
    "    elif isinstance(dirtree, list):\n",
    "        string_values = [val for val in dirtree if isinstance(val,str)]\n",
    "        status_dict.update({key:False for key in string_values})\n",
    "        dict_values   = [val for val in dirtree if isinstance(val,dict)]\n",
    "        for inner_dict in dict_values:\n",
    "            status_dict.update( initialise_checker(inner_dict) )\n",
    "    return status_dict"
   ]
  },
  {
   "cell_type": "code",
   "execution_count": 1006,
   "metadata": {},
   "outputs": [
    {
     "data": {
      "text/plain": [
       "{'fresh salad': False,\n",
       " 'fresh etc': False,\n",
       " 'vegan': False,\n",
       " 'beef': False,\n",
       " 'chicken': False,\n",
       " 'pork': False}"
      ]
     },
     "execution_count": 1006,
     "metadata": {},
     "output_type": "execute_result"
    }
   ],
   "source": [
    "initialise_checker(dirtree)"
   ]
  },
  {
   "cell_type": "markdown",
   "metadata": {
    "jp-MarkdownHeadingCollapsed": true,
    "tags": []
   },
   "source": [
    "# BS"
   ]
  },
  {
   "cell_type": "markdown",
   "metadata": {},
   "source": [
    "## Getting all the `gridItems`"
   ]
  },
  {
   "cell_type": "code",
   "execution_count": 6,
   "metadata": {},
   "outputs": [
    {
     "data": {
      "text/plain": [
       "[{'class': ['coverage', 'ranged']},\n",
       " {'class': ['gridItem']},\n",
       " {'class': ['coverage', 'ranged']},\n",
       " {'class': ['gridItem']},\n",
       " {'class': ['coverage', 'ranged']},\n",
       " {'class': ['gridItem']}]"
      ]
     },
     "execution_count": 6,
     "metadata": {},
     "output_type": "execute_result"
    }
   ],
   "source": [
    "utils = reload(utils)\n",
    "page = utils.fetch_tag(soup.body, \"page\") # soup.body.contents[1]\n",
    "main = utils.fetch_tag(page, \"main\")\n",
    "content_article = utils.fetch_tag(main, \"content\")\n",
    "products_container = utils.fetch_tag(content_article, \"productsContainer\")\n",
    "product_lister = utils.fetch_tag(products_container, \"productLister\")\n",
    "prod_lister_gridview = utils.fetch_tag(product_lister, ['productLister', 'gridView'], \"class\")\n",
    "Counter([type(x) for x in prod_lister_gridview.contents])\n",
    "\n",
    "[x.attrs for x in prod_lister_gridview.contents if isinstance(x, element.Tag)][:6]"
   ]
  },
  {
   "cell_type": "code",
   "execution_count": 7,
   "metadata": {},
   "outputs": [
    {
     "data": {
      "text/plain": [
       "60"
      ]
     },
     "execution_count": 7,
     "metadata": {},
     "output_type": "execute_result"
    }
   ],
   "source": [
    "len(page.find_all(attrs = {\"class\":\"productNameAndPromotions\"}))"
   ]
  },
  {
   "cell_type": "code",
   "execution_count": 8,
   "metadata": {},
   "outputs": [
    {
     "name": "stdout",
     "output_type": "stream",
     "text": [
      "60\n"
     ]
    },
    {
     "data": {
      "text/plain": [
       "{'class': ['gridItem']}"
      ]
     },
     "execution_count": 8,
     "metadata": {},
     "output_type": "execute_result"
    }
   ],
   "source": [
    "grid_items = [\n",
    "    x for x in prod_lister_gridview.contents \n",
    "    if isinstance(x, element.Tag) and x.attrs.get(\"class\") == [\"gridItem\"]\n",
    "]\n",
    "print(len(grid_items))\n",
    "grid_items[0].attrs\n"
   ]
  },
  {
   "cell_type": "code",
   "execution_count": 9,
   "metadata": {},
   "outputs": [
    {
     "data": {
      "text/plain": [
       "Counter({bs4.element.NavigableString: 2,\n",
       "         bs4.element.Comment: 1,\n",
       "         bs4.element.Tag: 1})"
      ]
     },
     "execution_count": 9,
     "metadata": {},
     "output_type": "execute_result"
    }
   ],
   "source": [
    "g = grid_items[0]\n",
    "Counter([type(x) for x in g.contents])"
   ]
  },
  {
   "cell_type": "code",
   "execution_count": 10,
   "metadata": {},
   "outputs": [
    {
     "data": {
      "text/plain": [
       "\"Sainsbury's Fairtrade Bananas Loose\""
      ]
     },
     "execution_count": 10,
     "metadata": {},
     "output_type": "execute_result"
    }
   ],
   "source": [
    "g.div.div.div.a.text.strip()"
   ]
  },
  {
   "cell_type": "code",
   "execution_count": 11,
   "metadata": {},
   "outputs": [
    {
     "data": {
      "text/plain": [
       "[<div class=\"productNameAndPromotions\">\n",
       " <h3>\n",
       " <a href=\"https://www.sainsburys.co.uk/shop/gb/groceries/product/details/fruitandveg-essentials/sainsburys-loose-fairtrade-bananas\">\n",
       "                                                 Sainsbury's Fairtrade Bananas Loose\n",
       "                                                 <img alt=\"\" src=\"https://assets.sainsburys-groceries.co.uk/gol/1196757/image.jpg\"/>\n",
       " </a>\n",
       " </h3>\n",
       " </div>]"
      ]
     },
     "execution_count": 11,
     "metadata": {},
     "output_type": "execute_result"
    }
   ],
   "source": [
    "g.find_all(attrs = {\"class\":\"productNameAndPromotions\"})"
   ]
  },
  {
   "cell_type": "code",
   "execution_count": 12,
   "metadata": {
    "collapsed": true,
    "jupyter": {
     "outputs_hidden": true
    },
    "tags": []
   },
   "outputs": [
    {
     "data": {
      "text/plain": [
       "[<div class=\"priceTab activeContainer priceTabContainer\" id=\"addItem_130439\">\n",
       " <div class=\"pricing\">\n",
       " <p class=\"pricePerUnit\">\n",
       "         78p \n",
       " </p>\n",
       " <p class=\"pricePerMeasure\">78p<abbr title=\"per\">/</abbr><abbr title=\"kilogram\"><span class=\"pricePerMeasureMeasure\">kg</span></abbr>\n",
       " </p>\n",
       " </div>\n",
       " <div class=\"addToTrolleyForm unitsDisplayed\">\n",
       " <!-- BEGIN AddToTrolley.jsp --><!-- fire an on add to bag here from  -->\n",
       " <form action=\"OrderItemAdd\" class=\"addToTrolleyForm\" id=\"OrderItemAddForm_130438\" method=\"post\" name=\"OrderItemAddForm_130438\">\n",
       " <input name=\"storeId\" type=\"hidden\" value=\"10151\">\n",
       " <input name=\"langId\" type=\"hidden\" value=\"44\">\n",
       " <input name=\"catalogId\" type=\"hidden\" value=\"10241\">\n",
       " <input id=\"authToken130438\" name=\"authToken\" type=\"hidden\" value=\"-1002%2C3jIiHU%2F3lFc4jalpGDAhYOztAdQ%3D\">\n",
       " <input name=\"errorViewName\" type=\"hidden\" value=\"CategoryDisplayView\">\n",
       " <input name=\"SKU_ID\" type=\"hidden\" value=\"1196757\">\n",
       " <input name=\"itemType\" type=\"hidden\" value=\"\">\n",
       " <input name=\"parentSKU\" type=\"hidden\" value=\"\">\n",
       " <input id=\"productCatentryId_130439\" type=\"hidden\" value=\"130438\">\n",
       " <input id=\"catEntryId_130438\" type=\"hidden\" value=\"130439\">\n",
       " <input name=\"ItemSKU_ID\" type=\"hidden\" value=\"1196757\">\n",
       " <!-- Begin AddToTrolleyUomSelect.jsp -->\n",
       " <div class=\"field purchaseBy\">\n",
       " <div class=\"indicator access\">\n",
       " <span class=\"label\">Purchase by:</span>\n",
       " </div>\n",
       " <div class=\"radios\">\n",
       " <div class=\"input\">\n",
       " <input checked='\"checked\"' id=\"purchaseByItemsProduct_130438\" name=\"UOM\" type=\"radio\" value=\"C62\"/>\n",
       " <label for=\"purchaseByItemsProduct_130438\">items</label>\n",
       " </div>\n",
       " <div class=\"input\">\n",
       " <input id=\"purchaseByMeasureProduct_130438\" name=\"UOM\" type=\"radio\" value=\"kg\"/>\n",
       " <label for=\"purchaseByMeasureProduct_130438\"><abbr title=\"kilogram\">kg</abbr></label>\n",
       " </div>\n",
       " </div>\n",
       " </div>\n",
       " <!-- End AddToTrolleyUomSelect.jsp -->\n",
       " <div class=\"quantity hidden\" data-qty=\"\" id=\"updateQtyPanelProduct_130438\">\n",
       " <ul>\n",
       " <li>\n",
       " <a class=\"button decreaseQty\" href=\"#\" id=\"decreaseQty_130438\">-</a>\n",
       " </li>\n",
       " <li>\n",
       " <label class=\"access\" for=\"quantity_130438\">Quantity</label>\n",
       " <a class=\"button quantityPlp\" href=\"#\" id=\"quantityUpdate_130438\">\n",
       " </a>\n",
       " <input class=\"quantity\" id=\"quantity_130438\" name=\"quantity\" size=\"3\" type=\"hidden\" value=\"\"/>\n",
       " </li>\n",
       " <li>\n",
       " <a class=\"button increaseQty\" href=\"#\" id=\"increaseQty_130438\">+</a>\n",
       " </li>\n",
       " </ul>\n",
       " </div>\n",
       " <input name=\"catEntryId\" type=\"hidden\" value=\"130439\"/>\n",
       " <input name=\"productId\" type=\"hidden\" value=\"130438\"/>\n",
       " <input name=\"URL\" type=\"hidden\" value=\"https://www.sainsburys.co.uk/webapp/wcs/stores/servlet/CategoryDisplay?storeId=10151&amp;langId=44&amp;krypto=Maj5p2rrRMIPOOQNCP1cNGWwi4UG8PbdTL50S%2B%2F0tVcikrJHimj%2F5zHWg%2FfJIjY3C6RPtJHBrwooYQ%2FGF5iKbUcq978EEzVm0uMrFo6PLBenJon5Y%2Bn768Ee33F0uFboNryOsOIDT7x9PW6Z%2Ft6c4zeydpHB%2F6AObaOI%2Fa33wjM%3D&amp;ddkey=https%3Agb%2Fgroceries%2Ffruit-veg%2Ffruitandveg-essentials\"/>\n",
       " <input name=\"page\" type=\"hidden\" value=\"\"/>\n",
       " <input name=\"contractId\" type=\"hidden\" value=\"\"/>\n",
       " <input name=\"calculateOrder\" type=\"hidden\" value=\"1\"/>\n",
       " <input name=\"calculationUsage\" type=\"hidden\" value=\"-1,-2,-3\"/>\n",
       " <input name=\"updateable\" type=\"hidden\" value=\"1\"/>\n",
       " <input name=\"merge\" type=\"hidden\" value=\"***\"/>\n",
       " <input id=\"updateUrl_130438\" type=\"hidden\" updateurlchild_130439=\"AjaxOrderItemUpdate?calculateOrder=1&amp;ordItemUpdateFlag=0&amp;orderId=.&amp;updatePrices=1&amp;authToken=-1002%252C3jIiHU%252F3lFc4jalpGDAhYOztAdQ%253D&amp;calculationUsage=-1,-2,-3&amp;storeId=10151&amp;errorViewName=AjaxQuickCartDisplay&amp;URL=AjaxQuickCartDisplay&amp;catEntryId=130439&amp;orderItemId_0=&amp;UOM_0=&amp;langId=44&amp;quantity_0=1\"/>\n",
       " <input id=\"removeUrl_130438\" removeurlchild_130439=\"AjaxOrderItemUpdate?calculateOrder=1&amp;itemType=trolley&amp;productId=&amp;ordItemUpdateFlag=2&amp;orderId=.&amp;updatePrices=1&amp;authToken=-1002%252C3jIiHU%252F3lFc4jalpGDAhYOztAdQ%253D&amp;calculationUsage=-1,-2,-3&amp;storeId=10151&amp;errorViewName=AjaxQuickCartDisplay&amp;URL=AjaxQuickCartDisplay&amp;catEntryId=130439&amp;productSKU=&amp;orderItemId_0=&amp;qtyDecremented=true&amp;langId=44&amp;quantity_0=0\" type=\"hidden\"/>\n",
       " <input name=\"callAjax\" type=\"hidden\" value=\"false\"/>\n",
       " <div class=\"add2Cart\" id=\"addQtyPanelProduct_130438\">\n",
       " <a class=\"button process addQty\" href=\"#\" id=\"addQty_130438\">\n",
       " \t\t\t        \tAdd\n",
       " \t\t\t        </a>\n",
       " <input name=\"Add\" type=\"hidden\" value=\"Add\"/>\n",
       " </div>\n",
       " </input></input></input></input></input></input></input></input></input></input></input></form>\n",
       " <!-- END AddToTrolley.jsp -->\n",
       " </div>\n",
       " </div>]"
      ]
     },
     "execution_count": 12,
     "metadata": {},
     "output_type": "execute_result"
    }
   ],
   "source": [
    "g.find_all(attrs = {\"class\":\"priceTab activeContainer priceTabContainer\"})"
   ]
  },
  {
   "cell_type": "code",
   "execution_count": 13,
   "metadata": {},
   "outputs": [
    {
     "data": {
      "text/plain": [
       "60"
      ]
     },
     "execution_count": 13,
     "metadata": {},
     "output_type": "execute_result"
    }
   ],
   "source": [
    "grid_items_ = prod_lister_gridview.find_all(attrs={\"class\":\"gridItem\"})\n",
    "len(grid_items_)"
   ]
  }
 ],
 "metadata": {
  "kernelspec": {
   "display_name": "Python 3.9.11 ('sainsburys-scraper')",
   "language": "python",
   "name": "python3"
  },
  "language_info": {
   "codemirror_mode": {
    "name": "ipython",
    "version": 3
   },
   "file_extension": ".py",
   "mimetype": "text/x-python",
   "name": "python",
   "nbconvert_exporter": "python",
   "pygments_lexer": "ipython3",
   "version": "3.9.11"
  },
  "toc-autonumbering": false,
  "toc-showtags": false,
  "vscode": {
   "interpreter": {
    "hash": "ed4b682ccb97806e84f7deb3d9b91bd2d27f366a44c441f616923b604a45bae5"
   }
  }
 },
 "nbformat": 4,
 "nbformat_minor": 4
}
